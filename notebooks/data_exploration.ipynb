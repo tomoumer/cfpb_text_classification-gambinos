{
 "cells": [
  {
   "attachments": {},
   "cell_type": "markdown",
   "metadata": {},
   "source": [
    "# Data Exploration - Team Gambinos"
   ]
  },
  {
   "attachments": {},
   "cell_type": "markdown",
   "metadata": {},
   "source": [
    "## Imports"
   ]
  },
  {
   "cell_type": "code",
   "execution_count": 1,
   "metadata": {},
   "outputs": [],
   "source": [
    "import pandas as pd\n",
    "import re\n",
    "import numpy as np\n",
    "import matplotlib.pyplot as plt\n",
    "\n",
    "from sklearn.model_selection import train_test_split\n",
    "from sklearn.metrics import accuracy_score, confusion_matrix, classification_report, ConfusionMatrixDisplay\n",
    "from sklearn.feature_extraction.text import CountVectorizer, TfidfVectorizer\n",
    "from sklearn.linear_model import LogisticRegression\n",
    "from sklearn.pipeline import Pipeline\n",
    "from sklearn.preprocessing import StandardScaler\n",
    "from sklearn.metrics.pairwise import cosine_similarity\n",
    "\n",
    "from nltk import word_tokenize, regexp_tokenize\n",
    "from nltk.stem import WordNetLemmatizer \n",
    "from nltk.corpus import stopwords\n",
    "\n",
    "import scipy"
   ]
  },
  {
   "cell_type": "code",
   "execution_count": 2,
   "metadata": {},
   "outputs": [],
   "source": [
    "complaints = pd.read_csv('../data/complaints.csv')"
   ]
  },
  {
   "attachments": {},
   "cell_type": "markdown",
   "metadata": {},
   "source": [
    "## Exploration and Cleaning"
   ]
  },
  {
   "attachments": {},
   "cell_type": "markdown",
   "metadata": {},
   "source": [
    "We decided as a team to adopt the following naming convention for consistency:"
   ]
  },
  {
   "cell_type": "code",
   "execution_count": 3,
   "metadata": {},
   "outputs": [],
   "source": [
    "complaints.columns = [x.replace('Consumer ', '').lower().replace(' ', '_') for x in complaints.columns]\n",
    "complaints['complaint_length'] = complaints['complaint_narrative'].apply(len)\n"
   ]
  },
  {
   "cell_type": "code",
   "execution_count": 4,
   "metadata": {},
   "outputs": [
    {
     "data": {
      "text/plain": [
       "Incorrect information on your report    229305\n",
       "Attempts to collect debt not owed        73163\n",
       "Communication tactics                    21243\n",
       "Struggling to pay mortgage               17374\n",
       "Fraud or scam                            12347\n",
       "Name: issue, dtype: int64"
      ]
     },
     "execution_count": 4,
     "metadata": {},
     "output_type": "execute_result"
    }
   ],
   "source": [
    "complaints['issue'].value_counts()"
   ]
  },
  {
   "cell_type": "code",
   "execution_count": 5,
   "metadata": {},
   "outputs": [],
   "source": [
    "complaints_dict = {'Attempts to collect debt not owed': 0, \n",
    "                 'Communication tactics': 1, \n",
    "                 'Fraud or scam': 2, \n",
    "                 'Incorrect information on your report': 3,\n",
    "                 'Struggling to pay mortgage': 4}"
   ]
  },
  {
   "cell_type": "code",
   "execution_count": 6,
   "metadata": {},
   "outputs": [],
   "source": [
    "# to replace the text in issue with target variables\n",
    "complaints = complaints.replace({'issue': complaints_dict})"
   ]
  },
  {
   "cell_type": "code",
   "execution_count": 7,
   "metadata": {},
   "outputs": [
    {
     "data": {
      "text/plain": [
       "0         My name is XXXX XXXX this complaint is not mad...\n",
       "1         I searched on XXXX for XXXXXXXX XXXX  and was ...\n",
       "2         I have a particular account that is stating th...\n",
       "3         I have not supplied proof under the doctrine o...\n",
       "4         Hello i'm writing regarding account on my cred...\n",
       "                                ...                        \n",
       "353427           Collections account I have no knowledge of\n",
       "353428    Dear CFPB Team, The reason for my complaint is...\n",
       "353429    FRCA violations : Failing to Follow Debt Dispu...\n",
       "353430    My Father, a XXXX XXXX  acquired an HECM rever...\n",
       "353431    I have tried to contact cash app about a fraud...\n",
       "Name: complaint_narrative, Length: 353432, dtype: object"
      ]
     },
     "execution_count": 7,
     "metadata": {},
     "output_type": "execute_result"
    }
   ],
   "source": [
    "complaints['complaint_narrative']"
   ]
  },
  {
   "cell_type": "code",
   "execution_count": 8,
   "metadata": {},
   "outputs": [
    {
     "name": "stdout",
     "output_type": "stream",
     "text": [
      "THIS IS A SECOND COMPLAINT PLEASE DO NOT MARK AS DUPLICATE COMPLAINT BECAUSE THIS COMPLAINT IS IN REGARDS MY MORTGAGE ASSISTANCE APPLICATION DENIED ON XX/XX/2019 This year I was facing foreclosure because I can not afford the payments for a loan that I have with Chase because with the years the payment has steadily increased from {$130.00} to {$260.00} per month, also my health and financial situation are not the same as when I applied for the loan and the living expenses increased -Property tax, utility cost, Gas prices, Health Insurance- . I applied 2 times for a mortgage assistance and both applications have been denied, Chase just offered me a short sale or a deed-in-lieu of foreclosure but both options will make me a XXXX homeless person. I am just asking to reduce my monthly payment in order to keep a place to leave, have food in my table and have all the medicines and medical treatments that I need to keep me alive. During the last 10 years or so I have been inundated with medical surgeries just to stay alive. I am a XXXX survivor and have had a lifelong XXXX issue that has become progressively worse. I have had multiple XXXX surgeries caused by other medical conditions and at one point my XXXX literally snapped in half and I needed to have emergency life saving XXXX. I have had XXXX because of all the medications necessary to live have thinned my XXXX   so much my own body started contaminating itself. The medications and the surgeries just exacerbated the issue and I had to have other surgeries to undo the damage caused. And all these things dont even begin to bring forth the light of what truly has happened to me medically. I am just trying to keep my history as private as I can while still informing you of the seriousness of my medical condition. It goes without saying that I am unable to work since I spend so much time just trying to stay alive. I am unable to work. Due to this I am unable to garner any real income to pay for this increase in the minimum loan payment amount you have just given me, to make matters worse my income will be reduce this year. I served as teacher for decades, My husband served the country in the military before pass away. I just asked to Chase for help modifying this loan I have with them, so I can make $ XXXX $ XXXX  monthly payments to the loan while I still live. The way I see it, Chase will get more money this way. Chase can always foreclose the home once Im dead and get the money anyways, but at least let me pay chase in {$100.00} installments so I can go on living my life in my home with whatever time I have left.\n",
      "-----------------------------\n",
      "I applied for loan modification to XXXX XXXX XXXX at XXXX Box XXXX, XXXX XXXX, FL XXXX. The bank denied my application for not responding although I had called many times and I sent application documents XX/XX/2018 after receipt of the application documents via email XX/XX/2018. \n",
      "\n",
      "XXXX XXXX XXXX  mailed a letter dated XX/XX/2018 for denial of loan modification application, of which envelop was stamped XX/XX/2018, and reached me XX/XX/2018. \n",
      "\n",
      "The letter states they do not accept appeal after XX/XX/2018 when the letter was mailed one day before the due date for appeal from Florida which takes at least 3 days to reach me. \n",
      "\n",
      "Since they did not accept my one month payment when two month delay and said they mailed the application document on the same day they sent email but the documents did not come via land mail, it seems the letter was intentionally mailed to reach me after expiration date for appeal. \n",
      "\n",
      "This is so unfair business conduct as a bank, operating in the U.S.A. It seems they are trying to foreclose when there is a good chance to correct the situation instead of actually help stating in an inserted a letter to help.\n",
      "-----------------------------\n",
      "On XX/XX/XXXX, my wife and I were involved in a car accident. Due to injuries we both suffered my wifes doctor did not allow her to return when her long term XXXX ran out, she lost her employment. She did however find a job in XX/XX/XXXX. Due to the initial job loss we fell behind on payments and applied for a loan modification. We were approved for the loan modification on or around XX/XX/XXXX my wife had significant XXXX XXXX and was unable to drive the 30 minutes to work, we tried XXXX XXXX, XXXX XXXX and XXXX XXXX. \n",
      "Nothing worked to help her with the pain and the doctor recommended XXXX XXXX in XX/XX/XXXX so again, she lost her employment as a result of injuries from the car accident. She was working through a temporary agency so they would not hold her job for her. In XX/XX/XXXX, I was told I had an XXXX in my XXXX due to my XXXX XXXX XXXX in the car accident, pieces of my partial XXXX XXXX broke off. In order to save my leg I had to have my XXXX XXXX, I was on XXXX XXXX for six weeks and then a total XXXX XXXX was done on XX/XX/XXXX. I work construction so I can not return to work for 3-4 months after my final XXXX. All in all I will be off from XX/XX/XXXX- MXX/XX/XXXX. As the primary income earner this is a hardship for my family. I have tried working with my lender and they said they have no programs that can help me since I have had a loan modification. XXXX XXXX said I will be eligible in two years. Meanwhile, we get hundreds of calls a week from Wells Fargo they send us letters saying they would like to sit down in person and go over the option but when I asked for someone to come here they said they dont actually do that. I should be eligible for some type of hardship since due to no fault of our own neither my wife or myself are able to work. Also when Wells Fargo did the loan modification they only lowered the payment by {$100.00} or so, this really wasnt enough to compensate for losing {$70000.00} In income. I feel it is unfair to charge someone such a high mortgage payment when they come to you for help. They are also making us pay mortgage insurance which is {$200.00} a month and out loan is paid down enough where that should no longer be an issue. They have delivered foreclosure payments to our child when he answered the door and have made me want to change my phone number because they call from early in the morning until XXXX XXXX XXXX at night. Its hard enough to lose your job due to injury but to wake up every morning to collection calls is horrible- they dont even stop calling us on the weekends.\n",
      "-----------------------------\n"
     ]
    }
   ],
   "source": [
    "seed = 123\n",
    "for complaint in complaints.loc[complaints['issue'] == 4, 'complaint_narrative'].sample(3, random_state=seed):\n",
    "    print(complaint)\n",
    "    print('-----------------------------')"
   ]
  },
  {
   "cell_type": "code",
   "execution_count": 9,
   "metadata": {},
   "outputs": [],
   "source": [
    "# remove double x-s or more\n",
    "complaints['complaint_narrative'] = complaints['complaint_narrative'].str.replace(r'[xX][xX]+','', regex=True)\n",
    "\n",
    "# remove double __ or more\n",
    "complaints['complaint_narrative'] = complaints['complaint_narrative'].str.replace(r'__+','', regex=True)\n",
    "\n",
    "# stripping all numeric values from complaints\n",
    "complaints['complaint_narrative'] = complaints['complaint_narrative'].str.replace('\\d+', '', regex=True)\n",
    "\n",
    "# removing digit removes \"4927\" words"
   ]
  },
  {
   "cell_type": "code",
   "execution_count": 10,
   "metadata": {},
   "outputs": [],
   "source": [
    "#complaints.groupby('issue')['complaint_narrative'].apply(lambda x: x.str.extractall(r'(\\w+X+\\w+)').groupby(0).size().reset_index(name='count'))"
   ]
  },
  {
   "cell_type": "code",
   "execution_count": 11,
   "metadata": {},
   "outputs": [
    {
     "data": {
      "text/plain": [
       "'  and      , CA  NATIONSTAR/.   #  We need immediate assistance with our   property loan.     is the investor of the property and   is the servicer for the loan. \\n\\nOur property has a domestic water well and the water is unsafe to drink. The significant and very serious water contaminations in the aquifers that serve our water well include : Lead Hexavalent Chromium ( documented in the movie entitled   ) and Arsenic. These chemicals are listed on the CA Proposition  List of Contaminants that Cause Cancer or Reproductive Harm. Serial testing of the water well by a CA Certified Laboratory defined the contamination to be steady-state as we were informed by the US EPA. There is no filtration system that can reduce these high levels down to potable safe drinking water levels. Our home is now defined* as : HAZARDOUS TOXIC CONTAMINATED UNINHABITABLE POLLUTED NON-POTABLE WATER BLIGHTED AND A NUISANCE ( *as defined by the CA List of Contaminants Proposition  State of CA, EPA Office of Environmental Health Hazard Assessment ( OEHHA ) Safe Drinking Water and Toxic Enforcement Act of , Chemical Known to the State to Cause Cancer or  Reproductive Toxicity, the CA Water Code Section -, OEHHA Health and Safety Code Section . and the CA Department of Consumer Affairs ) This well is the only source of water for the property. We have provided  evidence based factual documentation of the contaminations, yet, this loan servicer has continually indicated there is no documentation of the contaminations in our file. We can only assume our correspondence has been continually lost, misfiled or shredded. When we have provided written documentation with evidence based facts that their correspondence has erroneous facts stated in the letter/s, the corrections to the file have never been corrected by Nationstar/. . \\n\\n// : We received Enclosure  from Nationstar directing us to contact the City of  with any questions we have with our water. This information is false and misleading as the City of  water systems have nothing to do with our property. The letter is also fraught with errors and omissions that we have sent corrections to the file/record that has not been amended. We were informed that Nationstar/.  has no contamination department and they are thus unable to help us with this loan. \\n\\n// : Our  County Supervisor provided a letter to Nationstar dated //( Enclosure  ) documenting our property is contaminated, does not receive City of    and does not receive City of  potable water. Our Supervisor further clarified that there are no current of future plans for the City of  to pipe potable water to our property. \\n\\n// : We received a letter ( dated// ) ( Enclosure  ). The letter is fraught with errors and omissions including this false statement : However, in //, our research found that the issue had been resolved by the City of  having rerouted utilities to provide non-contaminated water // : I requested to Nationstar outsource the loan to a servicer that does have a contamination department to help us. \\nWe did not request for our loan to be transferred to a servicer who has no department or loan products for our property. They refused to transfer the loan. \\nI provided a letter from the City of  dated // ( Enclosure  ) to Nationstar that documents Nationstars statement research, and conclusions are false. \\n\\n// : Enclosure  was sent to our representative at Nationstar/.  for review yet we have not received a response. \\n\\nIt is my impression that there are active efforts by Nationstar to provide an erroneous document paper trail and sell our property at auction// without disclosure of the property contaminations. This is a public health issue first and foremost. These contaminations define the property as HAZARDOUS TOXIC CONTAMINATED UNINHABITABLE POLLUTED NON-POTABLE WATER BLIGHTED AND A NUISANCE. \\n\\n// : Because this servicer has no loan product for our property, we are being forced to foreclose, short sale or pay the cost of the house as though it is not contaminated when it is contaminated. Nationstar/.  agreed to consider a short sale of the property ; a short sale real estate signed agreement from a CA Licensed Realtor was emailed to the representative. A purchase offer was emailed to him by the realtor // ; we wish to short sale because it will be less of a derogatory mark on our credit score than a foreclosure. The Natoinstar/.  representative promised to email our attorney and me //. This did not happen. \\n\\nWe learned later this afternoon the short sale process is denied for us to utilize ; the sale of our home is scheduled for  //. The asking price of the property is   dollars without disclosure of the toxic contaminations that preclude any buyer from safely drinking the water, showering, tooth brushing, etc. \\n\\nBottom Line : We have provided to this servicer the CA State Water Board information regarding the contaminations including : Nitrate contamination causes methemoglemia in babies ( blue baby syndrome ) and is unsafe for babies, children or pregnant women. \\nLead, Hexavalent Chromium and Arsenic are listed on the CA Proposition  List of Chemicals that cause cancer and reproductive harm Please see Enclosures  -. \\n\\nIt is my impression and understanding that Nationstar/.  is choosing to ignore the public health problems associated with this property and they plan to sell the property //without disclosure of the contaminations for financial gain.'"
      ]
     },
     "execution_count": 11,
     "metadata": {},
     "output_type": "execute_result"
    }
   ],
   "source": [
    "complaints.loc[complaints['complaint_narrative'].str.find('TOXIC') != -1, 'complaint_narrative'].iloc[3]"
   ]
  },
  {
   "attachments": {},
   "cell_type": "markdown",
   "metadata": {},
   "source": [
    "## First Tokenization\n",
    "\n",
    "Attempted both with and without lemmatizing."
   ]
  },
  {
   "cell_type": "code",
   "execution_count": 12,
   "metadata": {},
   "outputs": [],
   "source": [
    "X = complaints[['complaint_narrative', 'complaint_length']]\n",
    "y = complaints['issue']\n",
    "\n",
    "X_train, X_test, y_train, y_test = train_test_split(X, y, random_state = 321, stratify = y)"
   ]
  },
  {
   "cell_type": "code",
   "execution_count": 13,
   "metadata": {},
   "outputs": [],
   "source": [
    "class LemmaTokenizer:\n",
    "    def __init__(self):\n",
    "        self.wnl = WordNetLemmatizer()\n",
    "    def __call__(self, doc):\n",
    "        return [self.wnl.lemmatize(t).lower()\n",
    "                for t in regexp_tokenize(doc, r'(?u)\\b\\w\\w+\\b')\n",
    "                if t.lower() not in stop_words]"
   ]
  },
  {
   "cell_type": "code",
   "execution_count": 14,
   "metadata": {},
   "outputs": [
    {
     "name": "stderr",
     "output_type": "stream",
     "text": [
      "/Users/tomoumer/opt/anaconda3/lib/python3.9/site-packages/sklearn/feature_extraction/text.py:528: UserWarning: The parameter 'token_pattern' will not be used since 'tokenizer' is not None'\n",
      "  warnings.warn(\n"
     ]
    }
   ],
   "source": [
    "# note: the default stop words remove 311 words; have to specify it, otherwise it's off\n",
    "#vect = CountVectorizer(lowercase=True, stop_words='english', ) \n",
    "\n",
    "#r”(?u)\\b\\w\\w+\\b”\n",
    "stop_words = set(stopwords.words('english'))\n",
    "vect = CountVectorizer(tokenizer=LemmaTokenizer(), min_df=2, max_df=0.8)  \n",
    "\n",
    "X_train_vec = vect.fit_transform(X_train['complaint_narrative'])\n",
    "X_test_vec = vect.transform(X_test['complaint_narrative'])"
   ]
  },
  {
   "cell_type": "code",
   "execution_count": 15,
   "metadata": {},
   "outputs": [
    {
     "data": {
      "text/plain": [
       "{'filed': 11510,\n",
       " 'identity': 14264,\n",
       " 'theft': 28985,\n",
       " 'report': 24375,\n",
       " 'learned': 16801,\n",
       " 'someone': 27042,\n",
       " 'using': 31185,\n",
       " 'incarceration': 14745,\n",
       " 'submitted': 27953,\n",
       " 'documentation': 9144,\n",
       " 'transunion': 29817,\n",
       " 'disregarded': 8930,\n",
       " 'even': 10547,\n",
       " 'block': 3590,\n",
       " 'account': 301,\n",
       " 'day': 7411,\n",
       " 'upon': 31066,\n",
       " 'receiving': 23395,\n",
       " 'information': 15149,\n",
       " 'also': 1290,\n",
       " 'received': 23385,\n",
       " 'letter': 16950,\n",
       " 'irs': 16009,\n",
       " 'stating': 27538,\n",
       " 'tax': 28643,\n",
       " 'return': 24976,\n",
       " 'name': 18971,\n",
       " 'u': 30169,\n",
       " 'dept': 8085,\n",
       " 'educatio': 9662,\n",
       " 'acct': 362,\n",
       " 'closed': 5317,\n",
       " 'send': 26079,\n",
       " 'written': 32556,\n",
       " 'notification': 19579,\n",
       " 'reported': 24385,\n",
       " 'consumer': 6321,\n",
       " 'reporting': 24399,\n",
       " 'agency': 944,\n",
       " 'never': 19259,\n",
       " 'ever': 10556,\n",
       " 'late': 16679,\n",
       " 'although': 1311,\n",
       " 'updated': 31029,\n",
       " 'chargeoff': 4897,\n",
       " 'providing': 22660,\n",
       " 'severe': 26259,\n",
       " 'scandalous': 25731,\n",
       " 'action': 507,\n",
       " 'destroying': 8248,\n",
       " 'perfect': 21171,\n",
       " 'payment': 21001,\n",
       " 'history': 13769,\n",
       " 'credit': 6981,\n",
       " 'battle': 3050,\n",
       " 'going': 12857,\n",
       " 'submittig': 27955,\n",
       " 'cfpb': 4797,\n",
       " 'complaint': 5847,\n",
       " 'delete': 7808,\n",
       " 'following': 11850,\n",
       " 'fraudulent': 12237,\n",
       " 'file': 11508,\n",
       " 'item': 16078,\n",
       " 'need': 19129,\n",
       " 'deleted': 7809,\n",
       " 'listed': 17144,\n",
       " 'victim': 31558,\n",
       " 'make': 17586,\n",
       " 'charge': 4889,\n",
       " 'ask': 2156,\n",
       " 'correct': 6668,\n",
       " 'federal': 11354,\n",
       " 'trade': 29660,\n",
       " 'commission': 5690,\n",
       " 'enclosed': 9984,\n",
       " 'copy': 6611,\n",
       " 'offer': 19977,\n",
       " 'testimony': 28863,\n",
       " 'herein': 13626,\n",
       " 'authorized': 2551,\n",
       " 'given': 12783,\n",
       " 'anyone': 1698,\n",
       " 'access': 222,\n",
       " 'private': 22303,\n",
       " 'confidential': 6080,\n",
       " 'record': 23552,\n",
       " 'certainly': 4742,\n",
       " 'alleged': 1187,\n",
       " 'showing': 26477,\n",
       " 'therefore': 29061,\n",
       " 'request': 24578,\n",
       " 'immediately': 14471,\n",
       " 'remove': 24173,\n",
       " 'firm': 11634,\n",
       " 'pursuant': 22834,\n",
       " 'fcra': 11290,\n",
       " 'section': 25954,\n",
       " 'please': 21633,\n",
       " 'soon': 27068,\n",
       " 'possible': 21874,\n",
       " 'mo': 18471,\n",
       " 'tx': 30127,\n",
       " 'noticed': 19566,\n",
       " 'debt': 7492,\n",
       " 'portfolio': 21832,\n",
       " 'recovery': 23582,\n",
       " 'service': 26183,\n",
       " 'llc': 17207,\n",
       " 'well': 32051,\n",
       " 'year': 32664,\n",
       " 'ago': 1004,\n",
       " 'mine': 18177,\n",
       " 'disputed': 8913,\n",
       " 'collection': 5526,\n",
       " 'company': 5773,\n",
       " 'avail': 2619,\n",
       " 'marked': 17723,\n",
       " 'refuse': 23817,\n",
       " 'gone': 12873,\n",
       " 'far': 11188,\n",
       " 'sending': 26084,\n",
       " 'past': 20906,\n",
       " 'due': 9433,\n",
       " 'bill': 3437,\n",
       " 'original': 20375,\n",
       " 'creditor': 7011,\n",
       " 'without': 32368,\n",
       " 'detail': 8257,\n",
       " 'saying': 25699,\n",
       " 'owe': 20675,\n",
       " 'amount': 1439,\n",
       " 'shown': 26478,\n",
       " 'told': 29480,\n",
       " 'looked': 17343,\n",
       " 'would': 32503,\n",
       " 'see': 25997,\n",
       " 'get': 12727,\n",
       " 'ignored': 14335,\n",
       " 'every': 10569,\n",
       " 'time': 29356,\n",
       " 'stay': 27592,\n",
       " 'currently': 7244,\n",
       " 'ncc': 19060,\n",
       " 'business': 4149,\n",
       " 'fl': 11681,\n",
       " 'twice': 30112,\n",
       " 'bureau': 4076,\n",
       " 'since': 26643,\n",
       " 'collecting': 5524,\n",
       " 'behalf': 3211,\n",
       " 'mi': 18087,\n",
       " 'disputing': 8922,\n",
       " 'inaccurate': 14673,\n",
       " 'first': 11637,\n",
       " 'placed': 21563,\n",
       " 'lived': 17192,\n",
       " 'apartment': 1731,\n",
       " 'moved': 18728,\n",
       " 'agreement': 1023,\n",
       " 'property': 22572,\n",
       " 'manager': 17634,\n",
       " 'let': 16941,\n",
       " 'lease': 16807,\n",
       " 'intent': 15617,\n",
       " 'surrender': 28313,\n",
       " 'notice': 19562,\n",
       " 'owed': 20676,\n",
       " 'money': 18555,\n",
       " 'prior': 22289,\n",
       " 'moving': 18734,\n",
       " 'court': 6836,\n",
       " 'settlement': 26236,\n",
       " 'ordered': 20326,\n",
       " 'pay': 20962,\n",
       " 'minus': 18216,\n",
       " 'erroneous': 10371,\n",
       " 'fee': 11370,\n",
       " 'charged': 4894,\n",
       " 'evicted': 10590,\n",
       " 'full': 12442,\n",
       " 'back': 2750,\n",
       " 'rent': 24220,\n",
       " 'escrow': 10428,\n",
       " 'county': 6819,\n",
       " 'th': 28888,\n",
       " 'district': 9018,\n",
       " 'reached': 23163,\n",
       " 'balance': 2836,\n",
       " 'including': 14787,\n",
       " 'payed': 20975,\n",
       " 'ledger': 16832,\n",
       " 'prove': 22645,\n",
       " 'made': 17515,\n",
       " 'phone': 21423,\n",
       " 'exactly': 10631,\n",
       " 'asked': 2158,\n",
       " 'put': 22855,\n",
       " 'together': 29465,\n",
       " 'dispute': 8910,\n",
       " 'via': 31537,\n",
       " 'email': 9843,\n",
       " 'investigate': 15857,\n",
       " 'composed': 5911,\n",
       " 'landlord': 16630,\n",
       " 'produce': 22397,\n",
       " 'provided': 22652,\n",
       " 'show': 26465,\n",
       " 'mailed': 17551,\n",
       " 'aware': 2699,\n",
       " 'determined': 8289,\n",
       " 'document': 9138,\n",
       " 'response': 24802,\n",
       " 'follow': 11843,\n",
       " 'within': 32358,\n",
       " 'week': 32018,\n",
       " 'still': 27671,\n",
       " 'kept': 16416,\n",
       " 'approved': 1912,\n",
       " 'seems': 26015,\n",
       " 'left': 16843,\n",
       " 'owing': 20682,\n",
       " 'false': 11149,\n",
       " 'unfair': 30584,\n",
       " 'say': 25692,\n",
       " 'retrieve': 24958,\n",
       " 'proof': 22546,\n",
       " 'came': 4320,\n",
       " 'specifically': 27185,\n",
       " 'damaged': 7347,\n",
       " 'way': 31959,\n",
       " 'suffering': 28087,\n",
       " 'nothing': 19555,\n",
       " 'rectify': 23602,\n",
       " 'situation': 26693,\n",
       " 'grant': 12986,\n",
       " 'weber': 31995,\n",
       " 'verify': 31483,\n",
       " 'california': 4278,\n",
       " 'id': 14206,\n",
       " 'medical': 17917,\n",
       " 'couple': 6823,\n",
       " 'offs': 20010,\n",
       " 'identification': 14250,\n",
       " 'open': 20218,\n",
       " 'provide': 22651,\n",
       " 'proper': 22566,\n",
       " 'authorization': 2547,\n",
       " 'try': 30027,\n",
       " 'collect': 5513,\n",
       " 'got': 12901,\n",
       " 'message': 18032,\n",
       " 'score': 25809,\n",
       " 'dropped': 9383,\n",
       " 'point': 21727,\n",
       " 'one': 20135,\n",
       " 'completely': 5865,\n",
       " 'incorrect': 14861,\n",
       " 'current': 7243,\n",
       " 'contacted': 6351,\n",
       " 'went': 32068,\n",
       " 'said': 25562,\n",
       " 'right': 25154,\n",
       " 'date': 7390,\n",
       " 'didnt': 8412,\n",
       " 'know': 16516,\n",
       " 'note': 19538,\n",
       " 'appears': 1798,\n",
       " 'give': 12780,\n",
       " 'solution': 27021,\n",
       " 'towards': 29611,\n",
       " 'removing': 24184,\n",
       " 'couldnt': 6763,\n",
       " 'anything': 1706,\n",
       " 'affecting': 802,\n",
       " 'tremendously': 29889,\n",
       " 'suppose': 28242,\n",
       " 'inquires': 15380,\n",
       " 'knowledge': 16524,\n",
       " 'breach': 3857,\n",
       " 'impacted': 14510,\n",
       " 'data': 7379,\n",
       " 'may': 17828,\n",
       " 'hand': 13246,\n",
       " 'wrong': 32570,\n",
       " 'person': 21298,\n",
       " 'investigated': 15860,\n",
       " 'ftc': 12413,\n",
       " 'local': 17272,\n",
       " 'area': 1989,\n",
       " 'code': 5407,\n",
       " 'trick': 29917,\n",
       " 'people': 21152,\n",
       " 'believing': 3255,\n",
       " 'call': 4286,\n",
       " 'occasion': 19879,\n",
       " 'missed': 18376,\n",
       " 'called': 4293,\n",
       " 'number': 19688,\n",
       " 'find': 11581,\n",
       " 'doctor': 9121,\n",
       " 'ohio': 20049,\n",
       " 'spoofing': 27289,\n",
       " 'practice': 21964,\n",
       " 'avoid': 2670,\n",
       " 'blocked': 3596,\n",
       " 'continue': 6425,\n",
       " 'harass': 13319,\n",
       " 'fmc': 11807,\n",
       " 'omaha': 20101,\n",
       " 'ct': 7181,\n",
       " 'showed': 26469,\n",
       " 'month': 18601,\n",
       " 'new': 19272,\n",
       " 'ford': 11934,\n",
       " 'motor': 18701,\n",
       " 'hit': 13772,\n",
       " 'missing': 18380,\n",
       " 'fraud': 12179,\n",
       " 'spoken': 27272,\n",
       " 'holder': 13815,\n",
       " 'advised': 757,\n",
       " 'posse': 21864,\n",
       " 'referred': 23741,\n",
       " 'ncb': 19059,\n",
       " 'management': 17630,\n",
       " 'gentleman': 12704,\n",
       " 'spoke': 27270,\n",
       " 'come': 5603,\n",
       " 'home': 13833,\n",
       " 'personally': 21306,\n",
       " 'contact': 6348,\n",
       " 'anymore': 1696,\n",
       " 'police': 21747,\n",
       " 'department': 8008,\n",
       " 'harassment': 13326,\n",
       " 'continues': 6430,\n",
       " 'removed': 24175,\n",
       " 'starting': 27493,\n",
       " 'address': 606,\n",
       " 'regard': 23836,\n",
       " 'previous': 22235,\n",
       " 'im': 14406,\n",
       " 'trying': 30033,\n",
       " 'obtain': 19852,\n",
       " 'loan': 17241,\n",
       " 'modification': 18511,\n",
       " 'sl': 26748,\n",
       " 'care': 4442,\n",
       " 'act': 499,\n",
       " 'respa': 24750,\n",
       " 'regulation': 23889,\n",
       " 'several': 26255,\n",
       " 'violtions': 31665,\n",
       " 'feel': 11379,\n",
       " 'second': 25931,\n",
       " 'mortgage': 18663,\n",
       " 'recieved': 23444,\n",
       " 'getting': 12734,\n",
       " 'sick': 26515,\n",
       " 'wife': 32237,\n",
       " 'layoff': 16761,\n",
       " 'worse': 32478,\n",
       " 'amortized': 1431,\n",
       " 'deferment': 7689,\n",
       " 'able': 80,\n",
       " 'timely': 29365,\n",
       " 'matter': 17800,\n",
       " 'concern': 5988,\n",
       " 'reason': 23281,\n",
       " 'required': 24595,\n",
       " 'notify': 19589,\n",
       " 'later': 16689,\n",
       " 'furnishing': 12513,\n",
       " 'negative': 19156,\n",
       " 'writing': 32553,\n",
       " 'subsection': 27985,\n",
       " 'however': 13995,\n",
       " 'unable': 30258,\n",
       " 'locate': 17276,\n",
       " 'complied': 5893,\n",
       " 'requirement': 24598,\n",
       " 'violation': 31647,\n",
       " 'fdcpa': 11315,\n",
       " 'failed': 11104,\n",
       " 'mini': 18184,\n",
       " 'miranda': 18226,\n",
       " 'five': 11668,\n",
       " 'placing': 21567,\n",
       " 'derogatory': 8140,\n",
       " 'per': 21156,\n",
       " 'validation': 31301,\n",
       " 'mirandi': 18227,\n",
       " 'initial': 15245,\n",
       " 'communication': 5730,\n",
       " 'violating': 31644,\n",
       " 'held': 13564,\n",
       " 'liable': 16999,\n",
       " 'defamation': 7646,\n",
       " 'state': 27503,\n",
       " 'indebtedness': 14910,\n",
       " 'individual': 14995,\n",
       " 'debtor': 7506,\n",
       " 'codebtors': 5409,\n",
       " 'fail': 11101,\n",
       " 'ability': 74,\n",
       " 'compliance': 5881,\n",
       " 'law': 16724,\n",
       " 'tried': 29927,\n",
       " 'regarding': 23838,\n",
       " 'inc': 14737,\n",
       " 'agreed': 1016,\n",
       " 'arrangement': 2059,\n",
       " 'gave': 12644,\n",
       " 'permission': 21234,\n",
       " 'withdraw': 32338,\n",
       " 'fund': 12463,\n",
       " 'electronic': 9785,\n",
       " 'check': 4944,\n",
       " 'checking': 4951,\n",
       " 'banking': 2911,\n",
       " 'mother': 18689,\n",
       " 'sure': 28278,\n",
       " 'obtained': 19856,\n",
       " 'eager': 9531,\n",
       " 'resolve': 24724,\n",
       " 'paid': 20737,\n",
       " 'bank': 2899,\n",
       " 'initiated': 15252,\n",
       " 'trace': 29643,\n",
       " 'another': 1628,\n",
       " 'though': 29192,\n",
       " 'attributed': 2460,\n",
       " 'transaction': 29726,\n",
       " 'denied': 7964,\n",
       " 'except': 10673,\n",
       " 'model': 18487,\n",
       " 'plan': 21581,\n",
       " 'paying': 20989,\n",
       " 'last': 16670,\n",
       " 'husband': 14120,\n",
       " 'fired': 11627,\n",
       " 'wrongful': 32575,\n",
       " 'could': 6758,\n",
       " 'took': 29512,\n",
       " 'case': 4505,\n",
       " 'unemployment': 30553,\n",
       " 'nine': 19338,\n",
       " 'hired': 13755,\n",
       " 'lawyer': 16750,\n",
       " 'firing': 11633,\n",
       " 'job': 16251,\n",
       " 'foreclosure': 11967,\n",
       " 'income': 14797,\n",
       " 'hospitalized': 13947,\n",
       " 'everything': 10580,\n",
       " 'working': 32453,\n",
       " 'hu': 14040,\n",
       " 'specialist': 27171,\n",
       " 'fargo': 11197,\n",
       " 'ork': 20402,\n",
       " 'help': 13577,\n",
       " 'keep': 16397,\n",
       " 'good': 12878,\n",
       " 'want': 31868,\n",
       " 'remain': 24084,\n",
       " 'thanks': 28902,\n",
       " 'apparently': 1780,\n",
       " 'client': 5283,\n",
       " 'yesterday': 32683,\n",
       " 'lie': 17033,\n",
       " 'bos': 3765,\n",
       " 'cell': 4687,\n",
       " 'ex': 10619,\n",
       " 'reach': 23161,\n",
       " 'lied': 17035,\n",
       " 'contacting': 6353,\n",
       " 'answer': 1638,\n",
       " 'leave': 16821,\n",
       " 'harassing': 13324,\n",
       " 'actually': 532,\n",
       " 'hung': 14088,\n",
       " 'direct': 8537,\n",
       " 'order': 20324,\n",
       " 'handle': 13263,\n",
       " 'personal': 21301,\n",
       " 'nobody': 19379,\n",
       " 'else': 9832,\n",
       " 'especially': 10444,\n",
       " 'statute': 27578,\n",
       " 'limitation': 17095,\n",
       " 'reveling': 25011,\n",
       " 'fair': 11115,\n",
       " 'checked': 4947,\n",
       " 'profile': 22432,\n",
       " 'approximately': 1919,\n",
       " 'cst': 7180,\n",
       " 'viewing': 31587,\n",
       " 'online': 20158,\n",
       " 'sent': 26104,\n",
       " 'affidavit': 815,\n",
       " 'filing': 11521,\n",
       " 'equifax': 10299,\n",
       " 'falsely': 11153,\n",
       " 'opened': 20224,\n",
       " 'claim': 5190,\n",
       " 'whenever': 32128,\n",
       " 'switched': 28418,\n",
       " 'carrier': 4483,\n",
       " 'recently': 23400,\n",
       " 'messaged': 18033,\n",
       " 'impossible': 14594,\n",
       " 'switch': 28416,\n",
       " 'standing': 27468,\n",
       " 'traded': 29663,\n",
       " 'variety': 31352,\n",
       " 'evidence': 10595,\n",
       " 'two': 30122,\n",
       " 'screenshots': 25855,\n",
       " 'receipt': 23373,\n",
       " 'messed': 18035,\n",
       " 'long': 17329,\n",
       " 'wanted': 31870,\n",
       " 'coll': 5482,\n",
       " 'confirmed': 6097,\n",
       " 'thoroughly': 29188,\n",
       " 'necessary': 19117,\n",
       " 'correction': 6674,\n",
       " 'automatically': 2585,\n",
       " 'dated': 7392,\n",
       " 'thankyou': 28904,\n",
       " 'applying': 1852,\n",
       " 'applied': 1845,\n",
       " 'affiliate': 823,\n",
       " 'recieving': 23448,\n",
       " 'inquiry': 15397,\n",
       " 'latter': 16702,\n",
       " 'activity': 522,\n",
       " 'capitalone': 4397,\n",
       " 'place': 21562,\n",
       " 'posted': 21890,\n",
       " 'total': 29569,\n",
       " 'excluding': 10709,\n",
       " 'finance': 11560,\n",
       " 'noticing': 19571,\n",
       " 'froze': 12365,\n",
       " 'city': 5168,\n",
       " 'registered': 23857,\n",
       " 'alert': 1141,\n",
       " 'expense': 10856,\n",
       " 'signed': 26565,\n",
       " 'monitoring': 18575,\n",
       " 'corrected': 6670,\n",
       " 'related': 23998,\n",
       " 'included': 14781,\n",
       " 'chapter': 4863,\n",
       " 'bankruptcy': 2937,\n",
       " 'like': 17075,\n",
       " 'violates': 31643,\n",
       " 'mixed': 18443,\n",
       " 'different': 8435,\n",
       " 'status': 27558,\n",
       " 'experian': 10865,\n",
       " 'seven': 26248,\n",
       " 'rep': 24269,\n",
       " 'look': 17341,\n",
       " 'recent': 23398,\n",
       " 'issue': 16046,\n",
       " 'park': 20835,\n",
       " 'stole': 27713,\n",
       " 'bag': 2801,\n",
       " 'sensitive': 26099,\n",
       " 'lot': 17379,\n",
       " 'hard': 13332,\n",
       " 'appearing': 1796,\n",
       " 'authorize': 2550,\n",
       " 'type': 30136,\n",
       " 'reference': 23731,\n",
       " 'inquired': 15375,\n",
       " 'misc': 18254,\n",
       " 'utility': 31223,\n",
       " 'fuel': 12429,\n",
       " 'national': 19013,\n",
       " 'card': 4423,\n",
       " 'airline': 1091,\n",
       " 'automotive': 2595,\n",
       " 'sporting': 27297,\n",
       " 'union': 30681,\n",
       " 'miscellaneous': 18263,\n",
       " 'reptg': 24543,\n",
       " 'auto': 2565,\n",
       " 'financing': 11571,\n",
       " 'motorcycle': 18703,\n",
       " 'bicycle': 3410,\n",
       " 'sale': 25580,\n",
       " 'svc': 28363,\n",
       " 'automobile': 2593,\n",
       " 'dealer': 7457,\n",
       " 'certified': 4760,\n",
       " 'mail': 17547,\n",
       " 'include': 14780,\n",
       " 'contract': 6448,\n",
       " 'signature': 26560,\n",
       " 'accurate': 387,\n",
       " 'mean': 17873,\n",
       " 'demand': 7914,\n",
       " 'really': 23237,\n",
       " 'responsibility': 24808,\n",
       " 'must': 18854,\n",
       " 'stop': 27732,\n",
       " 'verifying': 31486,\n",
       " 'supply': 28231,\n",
       " 'validate': 31294,\n",
       " 'failure': 11110,\n",
       " 'list': 17142,\n",
       " 'unless': 30724,\n",
       " 'properly': 22567,\n",
       " 'compromised': 5939,\n",
       " 'major': 17581,\n",
       " 'responded': 24781,\n",
       " 'accordingly': 282,\n",
       " 'demanded': 7915,\n",
       " 'unauthorized': 30317,\n",
       " 'shall': 26303,\n",
       " 'method': 18052,\n",
       " 'verification': 31469,\n",
       " 'along': 1265,\n",
       " 'physical': 21469,\n",
       " 'relating': 24000,\n",
       " 'accordance': 277,\n",
       " 'child': 5010,\n",
       " 'support': 28235,\n",
       " 'education': 9663,\n",
       " 'ed': 9633,\n",
       " 'hipaa': 13745,\n",
       " 'description': 8171,\n",
       " 'done': 9221,\n",
       " 'result': 24883,\n",
       " 'submited': 27944,\n",
       " 'correctly': 6679,\n",
       " 'spelled': 27221,\n",
       " 'labeled': 16570,\n",
       " 'supposed': 28244,\n",
       " 'considered': 6220,\n",
       " 'verifiable': 31464,\n",
       " 'supervisor': 28212,\n",
       " 'sold': 26986,\n",
       " 'longer': 17330,\n",
       " 'dont': 9230,\n",
       " 'arbitrarily': 1971,\n",
       " 'adding': 581,\n",
       " 'comment': 5670,\n",
       " 'identifying': 14257,\n",
       " 'affected': 801,\n",
       " 'natural': 19024,\n",
       " 'disaster': 8603,\n",
       " 'employee': 9932,\n",
       " 'notified': 19583,\n",
       " 'simply': 26629,\n",
       " 'add': 564,\n",
       " 'around': 2048,\n",
       " 'affect': 799,\n",
       " 'value': 31318,\n",
       " 'something': 27047,\n",
       " 'others': 20440,\n",
       " 'many': 17696,\n",
       " 'violated': 31640,\n",
       " 'federally': 11356,\n",
       " 'protected': 22617,\n",
       " 'privacy': 22302,\n",
       " 'confidentiality': 6081,\n",
       " 'according': 281,\n",
       " 'belong': 3281,\n",
       " 'ri': 25114,\n",
       " 'little': 17183,\n",
       " 'crazy': 6936,\n",
       " 'heard': 13509,\n",
       " 'covid': 6872,\n",
       " 'pandemic': 20774,\n",
       " 'ideal': 14213,\n",
       " 'thesis': 29089,\n",
       " 'asap': 2114,\n",
       " 'hello': 13569,\n",
       " 'resource': 24740,\n",
       " 'use': 31165,\n",
       " 'charming': 4914,\n",
       " 'flagstar': 11695,\n",
       " 'attempting': 2413,\n",
       " 'four': 12113,\n",
       " 'refinance': 23761,\n",
       " 'lost': 17377,\n",
       " 'resubmit': 24875,\n",
       " 'etc': 10487,\n",
       " 'receive': 23382,\n",
       " 'question': 22947,\n",
       " 'cash': 4512,\n",
       " 'house': 13973,\n",
       " 'worth': 32487,\n",
       " 'le': 16776,\n",
       " 'tracking': 29655,\n",
       " 'issued': 16047,\n",
       " 'civil': 5173,\n",
       " 'penalty': 21111,\n",
       " 'third': 29152,\n",
       " 'party': 20886,\n",
       " 'administrator': 680,\n",
       " 'appreciate': 1879,\n",
       " 'expecting': 10832,\n",
       " 'think': 29146,\n",
       " 'horrible': 13929,\n",
       " 'gotten': 12906,\n",
       " 'away': 2701,\n",
       " 'allowed': 1238,\n",
       " 'rest': 24832,\n",
       " 'worked': 32448,\n",
       " 'frankly': 12171,\n",
       " 'dime': 8495,\n",
       " 'evidently': 10602,\n",
       " 'thing': 29143,\n",
       " 'work': 32443,\n",
       " 'america': 1374,\n",
       " 'small': 26836,\n",
       " 'guy': 13168,\n",
       " 'single': 26659,\n",
       " 'final': 11542,\n",
       " 'disbursement': 8617,\n",
       " 'recover': 23576,\n",
       " 'experience': 10871,\n",
       " 'ruined': 25463,\n",
       " 'course': 6831,\n",
       " 'side': 26525,\n",
       " 'regular': 23880,\n",
       " 'take': 28545,\n",
       " 'pending': 21121,\n",
       " 'litigation': 17175,\n",
       " 'seeking': 26007,\n",
       " 'relief': 24041,\n",
       " 'monetary': 18551,\n",
       " 'damage': 7346,\n",
       " 'accept': 208,\n",
       " 'attempt': 2410,\n",
       " 'amicably': 1399,\n",
       " 'continued': 6426,\n",
       " 'refusal': 23816,\n",
       " 'unverifiable': 30987,\n",
       " 'invalidated': 15811,\n",
       " 'intend': 15603,\n",
       " 'pursue': 22836,\n",
       " 'seek': 26003,\n",
       " 'entitled': 10199,\n",
       " 'previously': 22237,\n",
       " 'become': 3149,\n",
       " 'part': 20855,\n",
       " 'formal': 12041,\n",
       " 'used': 31169,\n",
       " 'comply': 5900,\n",
       " 'unverified': 30989,\n",
       " 'investigation': 15864,\n",
       " 'stated': 27507,\n",
       " 'verified': 31473,\n",
       " 'furthermore': 12524,\n",
       " 'promptly': 22528,\n",
       " 'compromising': 5940,\n",
       " 'social': 26946,\n",
       " 'security': 25983,\n",
       " 'write': 32546,\n",
       " 'certain': 4741,\n",
       " 'resulting': 24887,\n",
       " 'crime': 7080,\n",
       " 'became': 3136,\n",
       " 'relate': 23997,\n",
       " 'earliest': 9545,\n",
       " 'dependent': 8022,\n",
       " 'detailing': 8260,\n",
       " 'potential': 21917,\n",
       " 'public': 22722,\n",
       " 'press': 22177,\n",
       " 'release': 24013,\n",
       " 'organization': 20345,\n",
       " 'cc': 4621,\n",
       " 'assistant': 2247,\n",
       " 'director': 8544,\n",
       " 'enforcement': 10065,\n",
       " 'financial': 11566,\n",
       " 'protection': 22620,\n",
       " 'washington': 31922,\n",
       " 'attorney': 2448,\n",
       " 'general': 12674,\n",
       " 'office': 19994,\n",
       " 'senate': 26076,\n",
       " 'deposit': 8052,\n",
       " 'insurance': 15565,\n",
       " 'corporation': 6661,\n",
       " 'comptroller': 5943,\n",
       " 'currency': 7239,\n",
       " 'reserve': 24677,\n",
       " 'system': 28484,\n",
       " 'regulatory': 23891,\n",
       " 'division': 9062,\n",
       " 'requesting': 24583,\n",
       " 'adverse': 739,\n",
       " 'attention': 2425,\n",
       " 'recov': 23574,\n",
       " 'assoc': 2257,\n",
       " 'prohibition': 22475,\n",
       " 'transfer': 29742,\n",
       " 'caused': 4587,\n",
       " 'appear': 1791,\n",
       " 'supported': 28236,\n",
       " 'sell': 26057,\n",
       " 'consideration': 6218,\n",
       " 'title': 29407,\n",
       " 'resulted': 24885,\n",
       " 'applicability': 1831,\n",
       " 'apply': 1849,\n",
       " 'described': 8163,\n",
       " 'paragraph': 20804,\n",
       " 'rule': 25467,\n",
       " 'construction': 6293,\n",
       " 'construed': 6298,\n",
       " 'prohibit': 22472,\n",
       " 'repurchase': 24554,\n",
       " 'assignee': 2234,\n",
       " 'requires': 24599,\n",
       " 'securitization': 25978,\n",
       " 'pledging': 21646,\n",
       " 'collateral': 5497,\n",
       " 'connection': 6164,\n",
       " 'borrowing': 3763,\n",
       " 'merger': 18013,\n",
       " 'acquisition': 485,\n",
       " 'purchase': 22787,\n",
       " 'assumption': 2287,\n",
       " 'substantially': 28009,\n",
       " 'asset': 2221,\n",
       " 'entity': 10203,\n",
       " 'furnishes': 12512,\n",
       " 'reasonable': 23282,\n",
       " 'procedure': 22355,\n",
       " 'respond': 24776,\n",
       " 'receives': 23393,\n",
       " 'prevent': 22220,\n",
       " 'refurnishing': 23815,\n",
       " 'serious': 26163,\n",
       " 'consumerfinance': 6326,\n",
       " 'gov': 12913,\n",
       " 'form': 12039,\n",
       " 'prepare': 22117,\n",
       " 'sue': 28079,\n",
       " 'example': 10645,\n",
       " 'associate': 2263,\n",
       " 'southern': 27124,\n",
       " 'proceeding': 22360,\n",
       " 'application': 1839,\n",
       " 'investigator': 15871,\n",
       " 'soc': 26943,\n",
       " 'sec': 25928,\n",
       " 'beyond': 3393,\n",
       " 'tired': 29394,\n",
       " 'blooded': 3606,\n",
       " 'coverage': 6858,\n",
       " 'recurring': 23614,\n",
       " 'self': 26045,\n",
       " 'friend': 12316,\n",
       " 'family': 11175,\n",
       " 'scam': 25714,\n",
       " 'paramount': 20811,\n",
       " 'attached': 2374,\n",
       " 'validated': 31295,\n",
       " 'effort': 9705,\n",
       " 'cease': 4665,\n",
       " 'hi': 13681,\n",
       " 'nothin': 19554,\n",
       " 'buying': 4185,\n",
       " 'buy': 4181,\n",
       " 'dpt': 9311,\n",
       " 'dint': 8517,\n",
       " 'submitting': 27958,\n",
       " 'involve': 15910,\n",
       " 'present': 22152,\n",
       " 'inaccuracy': 14662,\n",
       " 'continuously': 6441,\n",
       " 'concerned': 5989,\n",
       " 'egregious': 9727,\n",
       " 'occurring': 19909,\n",
       " 'gm': 12829,\n",
       " 'sequence': 26137,\n",
       " 'event': 10551,\n",
       " 'occurred': 19905,\n",
       " 'process': 22367,\n",
       " 'detailed': 8258,\n",
       " 'summary': 28140,\n",
       " 'attaching': 2379,\n",
       " 'correspondence': 6697,\n",
       " 'supporting': 28238,\n",
       " 'prof': 22408,\n",
       " 'visited': 31689,\n",
       " 'lender': 16898,\n",
       " 'advantage': 731,\n",
       " 'historic': 13766,\n",
       " 'low': 17399,\n",
       " 'interest': 15648,\n",
       " 'rate': 23103,\n",
       " 'reduce': 23679,\n",
       " 'move': 18727,\n",
       " 'represents': 24497,\n",
       " 'substantial': 28008,\n",
       " 'saving': 25683,\n",
       " 'monthly': 18607,\n",
       " 'term': 28818,\n",
       " 'cost': 6735,\n",
       " 'rejected': 23984,\n",
       " 'returned': 24979,\n",
       " 'embarrassed': 9859,\n",
       " 'extremely': 11024,\n",
       " 'upset': 31078,\n",
       " 'life': 17048,\n",
       " 'responsible': 24814,\n",
       " 'obligation': 19804,\n",
       " 'always': 1321,\n",
       " 'enjoyed': 10107,\n",
       " 'easy': 9578,\n",
       " 'favorable': 11249,\n",
       " 'provides': 22658,\n",
       " 'facing': 11071,\n",
       " 'possibility': 21872,\n",
       " 'losing': 17372,\n",
       " 'ten': 28780,\n",
       " 'thousand': 29199,\n",
       " 'dollar': 9195,\n",
       " 'error': 10381,\n",
       " 'fumbled': 12452,\n",
       " 'three': 29227,\n",
       " 'seperate': 26124,\n",
       " 'pre': 21988,\n",
       " 'vehicle': 31392,\n",
       " 'inspection': 15465,\n",
       " 'appointment': 1858,\n",
       " 'miss': 18374,\n",
       " 'inspector': 15466,\n",
       " 'separate': 26119,\n",
       " 'much': 18784,\n",
       " 'forth': 12074,\n",
       " 'presented': 22155,\n",
       " 'granted': 12987,\n",
       " 'cover': 6857,\n",
       " 'disposition': 8885,\n",
       " 'urge': 31103,\n",
       " 'read': 23179,\n",
       " 'understand': 30486,\n",
       " 'context': 6405,\n",
       " 'documented': 9147,\n",
       " 'conveniently': 6507,\n",
       " 'implore': 14570,\n",
       " 'listen': 17148,\n",
       " 'recording': 23557,\n",
       " 'corroborate': 6708,\n",
       " 'version': 31504,\n",
       " 'story': 27752,\n",
       " 'clearly': 5260,\n",
       " 'recorded': 23555,\n",
       " 'great': 13022,\n",
       " 'vault': 31370,\n",
       " 'referenced': 23733,\n",
       " 'specific': 27184,\n",
       " 'numerous': 19710,\n",
       " 'informed': 15171,\n",
       " 'truly': 29995,\n",
       " 'thought': 29195,\n",
       " 'resolved': 24725,\n",
       " 'impeccable': 14529,\n",
       " 'tolerate': 29487,\n",
       " 'clear': 5248,\n",
       " 'significant': 26574,\n",
       " 'refinancing': 23766,\n",
       " 'easily': 9572,\n",
       " 'valued': 31319,\n",
       " 'fully': 12449,\n",
       " 'discharge': 8638,\n",
       " 'condition': 6038,\n",
       " 'claiming': 5197,\n",
       " 'passed': 20895,\n",
       " 'involved': 15911,\n",
       " 'select': 26037,\n",
       " 'servicing': 26201,\n",
       " 'created': 6954,\n",
       " 'real': 23213,\n",
       " 'owns': 20692,\n",
       " 'control': 6487,\n",
       " 'located': 17277,\n",
       " 'owned': 20685,\n",
       " 'servicer': 26194,\n",
       " 'deceptive': 7541,\n",
       " 'misleading': 18325,\n",
       " 'limited': 17098,\n",
       " 'forged': 12015,\n",
       " 'believed': 3251,\n",
       " 'notary': 19524,\n",
       " 'mers': 18025,\n",
       " 'movement': 18729,\n",
       " ...}"
      ]
     },
     "execution_count": 15,
     "metadata": {},
     "output_type": "execute_result"
    }
   ],
   "source": [
    "vect.vocabulary_"
   ]
  },
  {
   "cell_type": "code",
   "execution_count": 16,
   "metadata": {},
   "outputs": [
    {
     "data": {
      "text/plain": [
       "32784"
      ]
     },
     "execution_count": 16,
     "metadata": {},
     "output_type": "execute_result"
    }
   ],
   "source": [
    "len(vect.vocabulary_)"
   ]
  },
  {
   "attachments": {},
   "cell_type": "markdown",
   "metadata": {},
   "source": [
    "## Naive Bayes Classification"
   ]
  },
  {
   "cell_type": "code",
   "execution_count": 17,
   "metadata": {},
   "outputs": [
    {
     "data": {
      "text/html": [
       "<div>\n",
       "<style scoped>\n",
       "    .dataframe tbody tr th:only-of-type {\n",
       "        vertical-align: middle;\n",
       "    }\n",
       "\n",
       "    .dataframe tbody tr th {\n",
       "        vertical-align: top;\n",
       "    }\n",
       "\n",
       "    .dataframe thead th {\n",
       "        text-align: right;\n",
       "    }\n",
       "</style>\n",
       "<table border=\"1\" class=\"dataframe\">\n",
       "  <thead>\n",
       "    <tr style=\"text-align: right;\">\n",
       "      <th></th>\n",
       "      <th>words</th>\n",
       "      <th>frequency</th>\n",
       "    </tr>\n",
       "  </thead>\n",
       "  <tbody>\n",
       "    <tr>\n",
       "      <th>0</th>\n",
       "      <td>_acct</td>\n",
       "      <td>2</td>\n",
       "    </tr>\n",
       "    <tr>\n",
       "      <th>1</th>\n",
       "      <td>_addresses</td>\n",
       "      <td>6</td>\n",
       "    </tr>\n",
       "    <tr>\n",
       "      <th>2</th>\n",
       "      <td>_chapter</td>\n",
       "      <td>4</td>\n",
       "    </tr>\n",
       "    <tr>\n",
       "      <th>3</th>\n",
       "      <td>_collections</td>\n",
       "      <td>2</td>\n",
       "    </tr>\n",
       "    <tr>\n",
       "      <th>4</th>\n",
       "      <td>_dept</td>\n",
       "      <td>2</td>\n",
       "    </tr>\n",
       "    <tr>\n",
       "      <th>5</th>\n",
       "      <td>_employment</td>\n",
       "      <td>8</td>\n",
       "    </tr>\n",
       "    <tr>\n",
       "      <th>6</th>\n",
       "      <td>_hard</td>\n",
       "      <td>3</td>\n",
       "    </tr>\n",
       "    <tr>\n",
       "      <th>7</th>\n",
       "      <td>_identity</td>\n",
       "      <td>3</td>\n",
       "    </tr>\n",
       "    <tr>\n",
       "      <th>8</th>\n",
       "      <td>_included</td>\n",
       "      <td>2</td>\n",
       "    </tr>\n",
       "    <tr>\n",
       "      <th>9</th>\n",
       "      <td>_local</td>\n",
       "      <td>3</td>\n",
       "    </tr>\n",
       "    <tr>\n",
       "      <th>10</th>\n",
       "      <td>_me</td>\n",
       "      <td>2</td>\n",
       "    </tr>\n",
       "    <tr>\n",
       "      <th>11</th>\n",
       "      <td>_names</td>\n",
       "      <td>3</td>\n",
       "    </tr>\n",
       "    <tr>\n",
       "      <th>12</th>\n",
       "      <td>_person</td>\n",
       "      <td>3</td>\n",
       "    </tr>\n",
       "    <tr>\n",
       "      <th>13</th>\n",
       "      <td>_telephone</td>\n",
       "      <td>3</td>\n",
       "    </tr>\n",
       "    <tr>\n",
       "      <th>14</th>\n",
       "      <td>_u</td>\n",
       "      <td>10</td>\n",
       "    </tr>\n",
       "    <tr>\n",
       "      <th>15</th>\n",
       "      <td>_us</td>\n",
       "      <td>8</td>\n",
       "    </tr>\n",
       "    <tr>\n",
       "      <th>16</th>\n",
       "      <td>aa</td>\n",
       "      <td>98</td>\n",
       "    </tr>\n",
       "    <tr>\n",
       "      <th>17</th>\n",
       "      <td>aaa</td>\n",
       "      <td>18</td>\n",
       "    </tr>\n",
       "    <tr>\n",
       "      <th>18</th>\n",
       "      <td>aaaf</td>\n",
       "      <td>2</td>\n",
       "    </tr>\n",
       "    <tr>\n",
       "      <th>19</th>\n",
       "      <td>aabout</td>\n",
       "      <td>4</td>\n",
       "    </tr>\n",
       "  </tbody>\n",
       "</table>\n",
       "</div>"
      ],
      "text/plain": [
       "           words  frequency\n",
       "0          _acct          2\n",
       "1     _addresses          6\n",
       "2       _chapter          4\n",
       "3   _collections          2\n",
       "4          _dept          2\n",
       "5    _employment          8\n",
       "6          _hard          3\n",
       "7      _identity          3\n",
       "8      _included          2\n",
       "9         _local          3\n",
       "10           _me          2\n",
       "11        _names          3\n",
       "12       _person          3\n",
       "13    _telephone          3\n",
       "14            _u         10\n",
       "15           _us          8\n",
       "16            aa         98\n",
       "17           aaa         18\n",
       "18          aaaf          2\n",
       "19        aabout          4"
      ]
     },
     "execution_count": 17,
     "metadata": {},
     "output_type": "execute_result"
    }
   ],
   "source": [
    "word_counts = pd.DataFrame({\n",
    "    'words': vect.get_feature_names_out(),\n",
    "    'frequency': np.array(X_train_vec.sum(axis = 0)).flatten()\n",
    "})\n",
    "\n",
    "word_counts.head(20)"
   ]
  },
  {
   "cell_type": "code",
   "execution_count": 18,
   "metadata": {},
   "outputs": [
    {
     "data": {
      "text/html": [
       "<div>\n",
       "<style scoped>\n",
       "    .dataframe tbody tr th:only-of-type {\n",
       "        vertical-align: middle;\n",
       "    }\n",
       "\n",
       "    .dataframe tbody tr th {\n",
       "        vertical-align: top;\n",
       "    }\n",
       "\n",
       "    .dataframe thead th {\n",
       "        text-align: right;\n",
       "    }\n",
       "</style>\n",
       "<table border=\"1\" class=\"dataframe\">\n",
       "  <thead>\n",
       "    <tr style=\"text-align: right;\">\n",
       "      <th></th>\n",
       "      <th>words</th>\n",
       "      <th>frequency</th>\n",
       "    </tr>\n",
       "  </thead>\n",
       "  <tbody>\n",
       "    <tr>\n",
       "      <th>0</th>\n",
       "      <td>_acct</td>\n",
       "      <td>2</td>\n",
       "    </tr>\n",
       "    <tr>\n",
       "      <th>3</th>\n",
       "      <td>_collections</td>\n",
       "      <td>2</td>\n",
       "    </tr>\n",
       "    <tr>\n",
       "      <th>4</th>\n",
       "      <td>_dept</td>\n",
       "      <td>2</td>\n",
       "    </tr>\n",
       "    <tr>\n",
       "      <th>8</th>\n",
       "      <td>_included</td>\n",
       "      <td>2</td>\n",
       "    </tr>\n",
       "    <tr>\n",
       "      <th>10</th>\n",
       "      <td>_me</td>\n",
       "      <td>2</td>\n",
       "    </tr>\n",
       "    <tr>\n",
       "      <th>...</th>\n",
       "      <td>...</td>\n",
       "      <td>...</td>\n",
       "    </tr>\n",
       "    <tr>\n",
       "      <th>32761</th>\n",
       "      <td>zestfinance</td>\n",
       "      <td>2</td>\n",
       "    </tr>\n",
       "    <tr>\n",
       "      <th>32762</th>\n",
       "      <td>zestimate</td>\n",
       "      <td>2</td>\n",
       "    </tr>\n",
       "    <tr>\n",
       "      <th>32764</th>\n",
       "      <td>zi</td>\n",
       "      <td>2</td>\n",
       "    </tr>\n",
       "    <tr>\n",
       "      <th>32778</th>\n",
       "      <td>zoning</td>\n",
       "      <td>2</td>\n",
       "    </tr>\n",
       "    <tr>\n",
       "      <th>32780</th>\n",
       "      <td>zoomed</td>\n",
       "      <td>2</td>\n",
       "    </tr>\n",
       "  </tbody>\n",
       "</table>\n",
       "<p>7128 rows × 2 columns</p>\n",
       "</div>"
      ],
      "text/plain": [
       "              words  frequency\n",
       "0             _acct          2\n",
       "3      _collections          2\n",
       "4             _dept          2\n",
       "8         _included          2\n",
       "10              _me          2\n",
       "...             ...        ...\n",
       "32761   zestfinance          2\n",
       "32762     zestimate          2\n",
       "32764            zi          2\n",
       "32778        zoning          2\n",
       "32780        zoomed          2\n",
       "\n",
       "[7128 rows x 2 columns]"
      ]
     },
     "execution_count": 18,
     "metadata": {},
     "output_type": "execute_result"
    }
   ],
   "source": [
    "word_counts[word_counts['frequency'] < 3]"
   ]
  },
  {
   "cell_type": "code",
   "execution_count": 19,
   "metadata": {},
   "outputs": [
    {
     "data": {
      "text/html": [
       "<div>\n",
       "<style scoped>\n",
       "    .dataframe tbody tr th:only-of-type {\n",
       "        vertical-align: middle;\n",
       "    }\n",
       "\n",
       "    .dataframe tbody tr th {\n",
       "        vertical-align: top;\n",
       "    }\n",
       "\n",
       "    .dataframe thead th {\n",
       "        text-align: right;\n",
       "    }\n",
       "</style>\n",
       "<table border=\"1\" class=\"dataframe\">\n",
       "  <thead>\n",
       "    <tr style=\"text-align: right;\">\n",
       "      <th></th>\n",
       "      <th>words</th>\n",
       "      <th>frequency</th>\n",
       "    </tr>\n",
       "  </thead>\n",
       "  <tbody>\n",
       "    <tr>\n",
       "      <th>6981</th>\n",
       "      <td>credit</td>\n",
       "      <td>553340</td>\n",
       "    </tr>\n",
       "    <tr>\n",
       "      <th>301</th>\n",
       "      <td>account</td>\n",
       "      <td>509923</td>\n",
       "    </tr>\n",
       "    <tr>\n",
       "      <th>24375</th>\n",
       "      <td>report</td>\n",
       "      <td>359288</td>\n",
       "    </tr>\n",
       "    <tr>\n",
       "      <th>15149</th>\n",
       "      <td>information</td>\n",
       "      <td>290532</td>\n",
       "    </tr>\n",
       "    <tr>\n",
       "      <th>24399</th>\n",
       "      <td>reporting</td>\n",
       "      <td>213314</td>\n",
       "    </tr>\n",
       "    <tr>\n",
       "      <th>7492</th>\n",
       "      <td>debt</td>\n",
       "      <td>182786</td>\n",
       "    </tr>\n",
       "    <tr>\n",
       "      <th>21001</th>\n",
       "      <td>payment</td>\n",
       "      <td>172136</td>\n",
       "    </tr>\n",
       "    <tr>\n",
       "      <th>6321</th>\n",
       "      <td>consumer</td>\n",
       "      <td>168238</td>\n",
       "    </tr>\n",
       "    <tr>\n",
       "      <th>5773</th>\n",
       "      <td>company</td>\n",
       "      <td>133872</td>\n",
       "    </tr>\n",
       "    <tr>\n",
       "      <th>2836</th>\n",
       "      <td>balance</td>\n",
       "      <td>120282</td>\n",
       "    </tr>\n",
       "    <tr>\n",
       "      <th>29356</th>\n",
       "      <td>time</td>\n",
       "      <td>119785</td>\n",
       "    </tr>\n",
       "    <tr>\n",
       "      <th>14264</th>\n",
       "      <td>identity</td>\n",
       "      <td>106886</td>\n",
       "    </tr>\n",
       "    <tr>\n",
       "      <th>17241</th>\n",
       "      <td>loan</td>\n",
       "      <td>106272</td>\n",
       "    </tr>\n",
       "    <tr>\n",
       "      <th>5526</th>\n",
       "      <td>collection</td>\n",
       "      <td>105259</td>\n",
       "    </tr>\n",
       "    <tr>\n",
       "      <th>7390</th>\n",
       "      <td>date</td>\n",
       "      <td>103856</td>\n",
       "    </tr>\n",
       "    <tr>\n",
       "      <th>7411</th>\n",
       "      <td>day</td>\n",
       "      <td>103180</td>\n",
       "    </tr>\n",
       "    <tr>\n",
       "      <th>16950</th>\n",
       "      <td>letter</td>\n",
       "      <td>102659</td>\n",
       "    </tr>\n",
       "    <tr>\n",
       "      <th>944</th>\n",
       "      <td>agency</td>\n",
       "      <td>98854</td>\n",
       "    </tr>\n",
       "    <tr>\n",
       "      <th>21633</th>\n",
       "      <td>please</td>\n",
       "      <td>95784</td>\n",
       "    </tr>\n",
       "    <tr>\n",
       "      <th>32503</th>\n",
       "      <td>would</td>\n",
       "      <td>95305</td>\n",
       "    </tr>\n",
       "    <tr>\n",
       "      <th>28985</th>\n",
       "      <td>theft</td>\n",
       "      <td>94800</td>\n",
       "    </tr>\n",
       "    <tr>\n",
       "      <th>4076</th>\n",
       "      <td>bureau</td>\n",
       "      <td>93040</td>\n",
       "    </tr>\n",
       "    <tr>\n",
       "      <th>19688</th>\n",
       "      <td>number</td>\n",
       "      <td>92599</td>\n",
       "    </tr>\n",
       "    <tr>\n",
       "      <th>1290</th>\n",
       "      <td>also</td>\n",
       "      <td>92156</td>\n",
       "    </tr>\n",
       "    <tr>\n",
       "      <th>19259</th>\n",
       "      <td>never</td>\n",
       "      <td>91558</td>\n",
       "    </tr>\n",
       "  </tbody>\n",
       "</table>\n",
       "</div>"
      ],
      "text/plain": [
       "             words  frequency\n",
       "6981        credit     553340\n",
       "301        account     509923\n",
       "24375       report     359288\n",
       "15149  information     290532\n",
       "24399    reporting     213314\n",
       "7492          debt     182786\n",
       "21001      payment     172136\n",
       "6321      consumer     168238\n",
       "5773       company     133872\n",
       "2836       balance     120282\n",
       "29356         time     119785\n",
       "14264     identity     106886\n",
       "17241         loan     106272\n",
       "5526    collection     105259\n",
       "7390          date     103856\n",
       "7411           day     103180\n",
       "16950       letter     102659\n",
       "944         agency      98854\n",
       "21633       please      95784\n",
       "32503        would      95305\n",
       "28985        theft      94800\n",
       "4076        bureau      93040\n",
       "19688       number      92599\n",
       "1290          also      92156\n",
       "19259        never      91558"
      ]
     },
     "execution_count": 19,
     "metadata": {},
     "output_type": "execute_result"
    }
   ],
   "source": [
    "word_counts.sort_values('frequency', ascending=False).head(25)"
   ]
  },
  {
   "cell_type": "code",
   "execution_count": 20,
   "metadata": {},
   "outputs": [],
   "source": [
    "from sklearn.naive_bayes import MultinomialNB"
   ]
  },
  {
   "cell_type": "code",
   "execution_count": 21,
   "metadata": {},
   "outputs": [],
   "source": [
    "nb = MultinomialNB().fit(X_train_vec, y_train)\n",
    "\n",
    "y_pred = nb.predict(X_test_vec)"
   ]
  },
  {
   "cell_type": "code",
   "execution_count": 22,
   "metadata": {},
   "outputs": [
    {
     "data": {
      "text/plain": [
       "0.8202313316281491"
      ]
     },
     "execution_count": 22,
     "metadata": {},
     "output_type": "execute_result"
    }
   ],
   "source": [
    "accuracy_score(y_test, y_pred)"
   ]
  },
  {
   "cell_type": "code",
   "execution_count": 23,
   "metadata": {},
   "outputs": [
    {
     "data": {
      "text/plain": [
       "array([[11629,  2133,   472,  3770,   287],\n",
       "       [  556,  4533,    49,    96,    77],\n",
       "       [   60,    62,  2825,   109,    31],\n",
       "       [ 4822,   880,   771, 49259,  1594],\n",
       "       [   29,    36,    17,    33,  4228]])"
      ]
     },
     "execution_count": 23,
     "metadata": {},
     "output_type": "execute_result"
    }
   ],
   "source": [
    "confusion_matrix(y_test, y_pred)"
   ]
  },
  {
   "cell_type": "code",
   "execution_count": 24,
   "metadata": {},
   "outputs": [
    {
     "name": "stdout",
     "output_type": "stream",
     "text": [
      "              precision    recall  f1-score   support\n",
      "\n",
      "           0       0.68      0.64      0.66     18291\n",
      "           1       0.59      0.85      0.70      5311\n",
      "           2       0.68      0.92      0.78      3087\n",
      "           3       0.92      0.86      0.89     57326\n",
      "           4       0.68      0.97      0.80      4343\n",
      "\n",
      "    accuracy                           0.82     88358\n",
      "   macro avg       0.71      0.85      0.77     88358\n",
      "weighted avg       0.83      0.82      0.82     88358\n",
      "\n"
     ]
    }
   ],
   "source": [
    "print(classification_report(y_test, y_pred))"
   ]
  },
  {
   "attachments": {},
   "cell_type": "markdown",
   "metadata": {},
   "source": [
    "## LogReg"
   ]
  },
  {
   "cell_type": "code",
   "execution_count": 25,
   "metadata": {},
   "outputs": [
    {
     "name": "stdout",
     "output_type": "stream",
     "text": [
      "0.8687951289073994\n",
      "[[11942   780   122  5370    77]\n",
      " [  912  3987    29   348    35]\n",
      " [  148    28  2630   258    23]\n",
      " [ 2573   129   104 54358   162]\n",
      " [  102    43    31   319  3848]]\n",
      "              precision    recall  f1-score   support\n",
      "\n",
      "           0       0.76      0.65      0.70     18291\n",
      "           1       0.80      0.75      0.78      5311\n",
      "           2       0.90      0.85      0.88      3087\n",
      "           3       0.90      0.95      0.92     57326\n",
      "           4       0.93      0.89      0.91      4343\n",
      "\n",
      "    accuracy                           0.87     88358\n",
      "   macro avg       0.86      0.82      0.84     88358\n",
      "weighted avg       0.86      0.87      0.87     88358\n",
      "\n"
     ]
    }
   ],
   "source": [
    "logreg = LogisticRegression(max_iter = 10000).fit(X_train_vec, y_train)\n",
    "\n",
    "y_pred = logreg.predict(X_test_vec)\n",
    "\n",
    "print(accuracy_score(y_test, y_pred))\n",
    "\n",
    "print(confusion_matrix(y_test, y_pred))\n",
    "\n",
    "print(classification_report(y_test, y_pred))"
   ]
  },
  {
   "cell_type": "code",
   "execution_count": 26,
   "metadata": {},
   "outputs": [],
   "source": [
    "vect = TfidfVectorizer(min_df=2, max_df=0.8, ngram_range=(1,2))\n",
    "\n",
    "X_train_vec = vect.fit_transform(X_train['complaint_narrative'])\n",
    "X_test_vec= vect.transform(X_test['complaint_narrative'])"
   ]
  },
  {
   "cell_type": "code",
   "execution_count": 27,
   "metadata": {},
   "outputs": [
    {
     "name": "stdout",
     "output_type": "stream",
     "text": [
      "0.8958328617669028\n",
      "[[13594   546   100  3968    83]\n",
      " [  902  4122    13   250    24]\n",
      " [  104    27  2685   261    10]\n",
      " [ 2309    53    45 54770   149]\n",
      " [   43    29    11   277  3983]]\n",
      "              precision    recall  f1-score   support\n",
      "\n",
      "           0       0.80      0.74      0.77     18291\n",
      "           1       0.86      0.78      0.82      5311\n",
      "           2       0.94      0.87      0.90      3087\n",
      "           3       0.92      0.96      0.94     57326\n",
      "           4       0.94      0.92      0.93      4343\n",
      "\n",
      "    accuracy                           0.90     88358\n",
      "   macro avg       0.89      0.85      0.87     88358\n",
      "weighted avg       0.89      0.90      0.89     88358\n",
      "\n"
     ]
    }
   ],
   "source": [
    "logreg = LogisticRegression(max_iter = 10000).fit(X_train_vec, y_train)\n",
    "y_pred = logreg.predict(X_test_vec)\n",
    "\n",
    "print(accuracy_score(y_test, y_pred))\n",
    "\n",
    "print(confusion_matrix(y_test, y_pred))\n",
    "\n",
    "print(classification_report(y_test, y_pred))"
   ]
  },
  {
   "cell_type": "code",
   "execution_count": 28,
   "metadata": {},
   "outputs": [
    {
     "data": {
      "image/png": "[encoded data removed]",
      "text/plain": [
       "<Figure size 640x480 with 2 Axes>"
      ]
     },
     "metadata": {},
     "output_type": "display_data"
    }
   ],
   "source": [
    "ConfusionMatrixDisplay.from_estimator(\n",
    "        logreg,\n",
    "        X_test_vec,\n",
    "        y_test,\n",
    "        display_labels=complaints_dict,\n",
    "        cmap=plt.cm.Blues,\n",
    "        #normalize='true',\n",
    "        xticks_rotation=90\n",
    "    );"
   ]
  },
  {
   "cell_type": "code",
   "execution_count": 29,
   "metadata": {},
   "outputs": [],
   "source": [
    "import plotly.express as px"
   ]
  },
  {
   "cell_type": "code",
   "execution_count": 30,
   "metadata": {},
   "outputs": [
    {
     "data": {
      "application/vnd.plotly.v1+json": {
       "config": {
        "plotlyServerURL": "https://plot.ly"
       },
       "data": [
        {
         "coloraxis": "coloraxis",
         "hovertemplate": "Predicted Label: %{x}<br>True Label: %{y}<br>color: %{z}<extra></extra>",
         "name": "0",
         "texttemplate": "%{z}",
         "type": "heatmap",
         "x": [
          "Attempts to collect debt not owed",
          "Communication tactics",
          "Fraud or scam",
          "Incorrect information on your report",
          "Struggling to pay mortgage"
         ],
         "xaxis": "x",
         "y": [
          "Attempts to collect debt not owed",
          "Communication tactics",
          "Fraud or scam",
          "Incorrect information on your report",
          "Struggling to pay mortgage"
         ],
         "yaxis": "y",
         "z": [
          [
           13594,
           546,
           100,
           3968,
           83
          ],
          [
           902,
           4122,
           13,
           250,
           24
          ],
          [
           104,
           27,
           2685,
           261,
           10
          ],
          [
           2309,
           53,
           45,
           54770,
           149
          ],
          [
           43,
           29,
           11,
           277,
           3983
          ]
         ]
        }
       ],
       "layout": {
        "coloraxis": {
         "colorscale": [
          [
           0,
           "rgb(209, 238, 234)"
          ],
          [
           0.16666666666666666,
           "rgb(168, 219, 217)"
          ],
          [
           0.3333333333333333,
           "rgb(133, 196, 201)"
          ],
          [
           0.5,
           "rgb(104, 171, 184)"
          ],
          [
           0.6666666666666666,
           "rgb(79, 144, 166)"
          ],
          [
           0.8333333333333334,
           "rgb(59, 115, 143)"
          ],
          [
           1,
           "rgb(42, 86, 116)"
          ]
         ],
         "showscale": false
        },
        "height": 800,
        "margin": {
         "t": 60
        },
        "template": {
         "data": {
          "bar": [
           {
            "error_x": {
             "color": "#2a3f5f"
            },
            "error_y": {
             "color": "#2a3f5f"
            },
            "marker": {
             "line": {
              "color": "#E5ECF6",
              "width": 0.5
             },
             "pattern": {
              "fillmode": "overlay",
              "size": 10,
              "solidity": 0.2
             }
            },
            "type": "bar"
           }
          ],
          "barpolar": [
           {
            "marker": {
             "line": {
              "color": "#E5ECF6",
              "width": 0.5
             },
             "pattern": {
              "fillmode": "overlay",
              "size": 10,
              "solidity": 0.2
             }
            },
            "type": "barpolar"
           }
          ],
          "carpet": [
           {
            "aaxis": {
             "endlinecolor": "#2a3f5f",
             "gridcolor": "white",
             "linecolor": "white",
             "minorgridcolor": "white",
             "startlinecolor": "#2a3f5f"
            },
            "baxis": {
             "endlinecolor": "#2a3f5f",
             "gridcolor": "white",
             "linecolor": "white",
             "minorgridcolor": "white",
             "startlinecolor": "#2a3f5f"
            },
            "type": "carpet"
           }
          ],
          "choropleth": [
           {
            "colorbar": {
             "outlinewidth": 0,
             "ticks": ""
            },
            "type": "choropleth"
           }
          ],
          "contour": [
           {
            "colorbar": {
             "outlinewidth": 0,
             "ticks": ""
            },
            "colorscale": [
             [
              0,
              "#0d0887"
             ],
             [
              0.1111111111111111,
              "#46039f"
             ],
             [
              0.2222222222222222,
              "#7201a8"
             ],
             [
              0.3333333333333333,
              "#9c179e"
             ],
             [
              0.4444444444444444,
              "#bd3786"
             ],
             [
              0.5555555555555556,
              "#d8576b"
             ],
             [
              0.6666666666666666,
              "#ed7953"
             ],
             [
              0.7777777777777778,
              "#fb9f3a"
             ],
             [
              0.8888888888888888,
              "#fdca26"
             ],
             [
              1,
              "#f0f921"
             ]
            ],
            "type": "contour"
           }
          ],
          "contourcarpet": [
           {
            "colorbar": {
             "outlinewidth": 0,
             "ticks": ""
            },
            "type": "contourcarpet"
           }
          ],
          "heatmap": [
           {
            "colorbar": {
             "outlinewidth": 0,
             "ticks": ""
            },
            "colorscale": [
             [
              0,
              "#0d0887"
             ],
             [
              0.1111111111111111,
              "#46039f"
             ],
             [
              0.2222222222222222,
              "#7201a8"
             ],
             [
              0.3333333333333333,
              "#9c179e"
             ],
             [
              0.4444444444444444,
              "#bd3786"
             ],
             [
              0.5555555555555556,
              "#d8576b"
             ],
             [
              0.6666666666666666,
              "#ed7953"
             ],
             [
              0.7777777777777778,
              "#fb9f3a"
             ],
             [
              0.8888888888888888,
              "#fdca26"
             ],
             [
              1,
              "#f0f921"
             ]
            ],
            "type": "heatmap"
           }
          ],
          "heatmapgl": [
           {
            "colorbar": {
             "outlinewidth": 0,
             "ticks": ""
            },
            "colorscale": [
             [
              0,
              "#0d0887"
             ],
             [
              0.1111111111111111,
              "#46039f"
             ],
             [
              0.2222222222222222,
              "#7201a8"
             ],
             [
              0.3333333333333333,
              "#9c179e"
             ],
             [
              0.4444444444444444,
              "#bd3786"
             ],
             [
              0.5555555555555556,
              "#d8576b"
             ],
             [
              0.6666666666666666,
              "#ed7953"
             ],
             [
              0.7777777777777778,
              "#fb9f3a"
             ],
             [
              0.8888888888888888,
              "#fdca26"
             ],
             [
              1,
              "#f0f921"
             ]
            ],
            "type": "heatmapgl"
           }
          ],
          "histogram": [
           {
            "marker": {
             "pattern": {
              "fillmode": "overlay",
              "size": 10,
              "solidity": 0.2
             }
            },
            "type": "histogram"
           }
          ],
          "histogram2d": [
           {
            "colorbar": {
             "outlinewidth": 0,
             "ticks": ""
            },
            "colorscale": [
             [
              0,
              "#0d0887"
             ],
             [
              0.1111111111111111,
              "#46039f"
             ],
             [
              0.2222222222222222,
              "#7201a8"
             ],
             [
              0.3333333333333333,
              "#9c179e"
             ],
             [
              0.4444444444444444,
              "#bd3786"
             ],
             [
              0.5555555555555556,
              "#d8576b"
             ],
             [
              0.6666666666666666,
              "#ed7953"
             ],
             [
              0.7777777777777778,
              "#fb9f3a"
             ],
             [
              0.8888888888888888,
              "#fdca26"
             ],
             [
              1,
              "#f0f921"
             ]
            ],
            "type": "histogram2d"
           }
          ],
          "histogram2dcontour": [
           {
            "colorbar": {
             "outlinewidth": 0,
             "ticks": ""
            },
            "colorscale": [
             [
              0,
              "#0d0887"
             ],
             [
              0.1111111111111111,
              "#46039f"
             ],
             [
              0.2222222222222222,
              "#7201a8"
             ],
             [
              0.3333333333333333,
              "#9c179e"
             ],
             [
              0.4444444444444444,
              "#bd3786"
             ],
             [
              0.5555555555555556,
              "#d8576b"
             ],
             [
              0.6666666666666666,
              "#ed7953"
             ],
             [
              0.7777777777777778,
              "#fb9f3a"
             ],
             [
              0.8888888888888888,
              "#fdca26"
             ],
             [
              1,
              "#f0f921"
             ]
            ],
            "type": "histogram2dcontour"
           }
          ],
          "mesh3d": [
           {
            "colorbar": {
             "outlinewidth": 0,
             "ticks": ""
            },
            "type": "mesh3d"
           }
          ],
          "parcoords": [
           {
            "line": {
             "colorbar": {
              "outlinewidth": 0,
              "ticks": ""
             }
            },
            "type": "parcoords"
           }
          ],
          "pie": [
           {
            "automargin": true,
            "type": "pie"
           }
          ],
          "scatter": [
           {
            "fillpattern": {
             "fillmode": "overlay",
             "size": 10,
             "solidity": 0.2
            },
            "type": "scatter"
           }
          ],
          "scatter3d": [
           {
            "line": {
             "colorbar": {
              "outlinewidth": 0,
              "ticks": ""
             }
            },
            "marker": {
             "colorbar": {
              "outlinewidth": 0,
              "ticks": ""
             }
            },
            "type": "scatter3d"
           }
          ],
          "scattercarpet": [
           {
            "marker": {
             "colorbar": {
              "outlinewidth": 0,
              "ticks": ""
             }
            },
            "type": "scattercarpet"
           }
          ],
          "scattergeo": [
           {
            "marker": {
             "colorbar": {
              "outlinewidth": 0,
              "ticks": ""
             }
            },
            "type": "scattergeo"
           }
          ],
          "scattergl": [
           {
            "marker": {
             "colorbar": {
              "outlinewidth": 0,
              "ticks": ""
             }
            },
            "type": "scattergl"
           }
          ],
          "scattermapbox": [
           {
            "marker": {
             "colorbar": {
              "outlinewidth": 0,
              "ticks": ""
             }
            },
            "type": "scattermapbox"
           }
          ],
          "scatterpolar": [
           {
            "marker": {
             "colorbar": {
              "outlinewidth": 0,
              "ticks": ""
             }
            },
            "type": "scatterpolar"
           }
          ],
          "scatterpolargl": [
           {
            "marker": {
             "colorbar": {
              "outlinewidth": 0,
              "ticks": ""
             }
            },
            "type": "scatterpolargl"
           }
          ],
          "scatterternary": [
           {
            "marker": {
             "colorbar": {
              "outlinewidth": 0,
              "ticks": ""
             }
            },
            "type": "scatterternary"
           }
          ],
          "surface": [
           {
            "colorbar": {
             "outlinewidth": 0,
             "ticks": ""
            },
            "colorscale": [
             [
              0,
              "#0d0887"
             ],
             [
              0.1111111111111111,
              "#46039f"
             ],
             [
              0.2222222222222222,
              "#7201a8"
             ],
             [
              0.3333333333333333,
              "#9c179e"
             ],
             [
              0.4444444444444444,
              "#bd3786"
             ],
             [
              0.5555555555555556,
              "#d8576b"
             ],
             [
              0.6666666666666666,
              "#ed7953"
             ],
             [
              0.7777777777777778,
              "#fb9f3a"
             ],
             [
              0.8888888888888888,
              "#fdca26"
             ],
             [
              1,
              "#f0f921"
             ]
            ],
            "type": "surface"
           }
          ],
          "table": [
           {
            "cells": {
             "fill": {
              "color": "#EBF0F8"
             },
             "line": {
              "color": "white"
             }
            },
            "header": {
             "fill": {
              "color": "#C8D4E3"
             },
             "line": {
              "color": "white"
             }
            },
            "type": "table"
           }
          ]
         },
         "layout": {
          "annotationdefaults": {
           "arrowcolor": "#2a3f5f",
           "arrowhead": 0,
           "arrowwidth": 1
          },
          "autotypenumbers": "strict",
          "coloraxis": {
           "colorbar": {
            "outlinewidth": 0,
            "ticks": ""
           }
          },
          "colorscale": {
           "diverging": [
            [
             0,
             "#8e0152"
            ],
            [
             0.1,
             "#c51b7d"
            ],
            [
             0.2,
             "#de77ae"
            ],
            [
             0.3,
             "#f1b6da"
            ],
            [
             0.4,
             "#fde0ef"
            ],
            [
             0.5,
             "#f7f7f7"
            ],
            [
             0.6,
             "#e6f5d0"
            ],
            [
             0.7,
             "#b8e186"
            ],
            [
             0.8,
             "#7fbc41"
            ],
            [
             0.9,
             "#4d9221"
            ],
            [
             1,
             "#276419"
            ]
           ],
           "sequential": [
            [
             0,
             "#0d0887"
            ],
            [
             0.1111111111111111,
             "#46039f"
            ],
            [
             0.2222222222222222,
             "#7201a8"
            ],
            [
             0.3333333333333333,
             "#9c179e"
            ],
            [
             0.4444444444444444,
             "#bd3786"
            ],
            [
             0.5555555555555556,
             "#d8576b"
            ],
            [
             0.6666666666666666,
             "#ed7953"
            ],
            [
             0.7777777777777778,
             "#fb9f3a"
            ],
            [
             0.8888888888888888,
             "#fdca26"
            ],
            [
             1,
             "#f0f921"
            ]
           ],
           "sequentialminus": [
            [
             0,
             "#0d0887"
            ],
            [
             0.1111111111111111,
             "#46039f"
            ],
            [
             0.2222222222222222,
             "#7201a8"
            ],
            [
             0.3333333333333333,
             "#9c179e"
            ],
            [
             0.4444444444444444,
             "#bd3786"
            ],
            [
             0.5555555555555556,
             "#d8576b"
            ],
            [
             0.6666666666666666,
             "#ed7953"
            ],
            [
             0.7777777777777778,
             "#fb9f3a"
            ],
            [
             0.8888888888888888,
             "#fdca26"
            ],
            [
             1,
             "#f0f921"
            ]
           ]
          },
          "colorway": [
           "#636efa",
           "#EF553B",
           "#00cc96",
           "#ab63fa",
           "#FFA15A",
           "#19d3f3",
           "#FF6692",
           "#B6E880",
           "#FF97FF",
           "#FECB52"
          ],
          "font": {
           "color": "#2a3f5f"
          },
          "geo": {
           "bgcolor": "white",
           "lakecolor": "white",
           "landcolor": "#E5ECF6",
           "showlakes": true,
           "showland": true,
           "subunitcolor": "white"
          },
          "hoverlabel": {
           "align": "left"
          },
          "hovermode": "closest",
          "mapbox": {
           "style": "light"
          },
          "paper_bgcolor": "white",
          "plot_bgcolor": "#E5ECF6",
          "polar": {
           "angularaxis": {
            "gridcolor": "white",
            "linecolor": "white",
            "ticks": ""
           },
           "bgcolor": "#E5ECF6",
           "radialaxis": {
            "gridcolor": "white",
            "linecolor": "white",
            "ticks": ""
           }
          },
          "scene": {
           "xaxis": {
            "backgroundcolor": "#E5ECF6",
            "gridcolor": "white",
            "gridwidth": 2,
            "linecolor": "white",
            "showbackground": true,
            "ticks": "",
            "zerolinecolor": "white"
           },
           "yaxis": {
            "backgroundcolor": "#E5ECF6",
            "gridcolor": "white",
            "gridwidth": 2,
            "linecolor": "white",
            "showbackground": true,
            "ticks": "",
            "zerolinecolor": "white"
           },
           "zaxis": {
            "backgroundcolor": "#E5ECF6",
            "gridcolor": "white",
            "gridwidth": 2,
            "linecolor": "white",
            "showbackground": true,
            "ticks": "",
            "zerolinecolor": "white"
           }
          },
          "shapedefaults": {
           "line": {
            "color": "#2a3f5f"
           }
          },
          "ternary": {
           "aaxis": {
            "gridcolor": "white",
            "linecolor": "white",
            "ticks": ""
           },
           "baxis": {
            "gridcolor": "white",
            "linecolor": "white",
            "ticks": ""
           },
           "bgcolor": "#E5ECF6",
           "caxis": {
            "gridcolor": "white",
            "linecolor": "white",
            "ticks": ""
           }
          },
          "title": {
           "x": 0.05
          },
          "xaxis": {
           "automargin": true,
           "gridcolor": "white",
           "linecolor": "white",
           "ticks": "",
           "title": {
            "standoff": 15
           },
           "zerolinecolor": "white",
           "zerolinewidth": 2
          },
          "yaxis": {
           "automargin": true,
           "gridcolor": "white",
           "linecolor": "white",
           "ticks": "",
           "title": {
            "standoff": 15
           },
           "zerolinecolor": "white",
           "zerolinewidth": 2
          }
         }
        },
        "width": 1000,
        "xaxis": {
         "anchor": "y",
         "constrain": "domain",
         "domain": [
          0,
          1
         ],
         "scaleanchor": "y",
         "title": {
          "text": "Predicted Label"
         }
        },
        "yaxis": {
         "anchor": "x",
         "autorange": "reversed",
         "constrain": "domain",
         "domain": [
          0,
          1
         ],
         "title": {
          "text": "True Label"
         }
        }
       }
      }
     },
     "metadata": {},
     "output_type": "display_data"
    }
   ],
   "source": [
    "fig = px.imshow(confusion_matrix(y_test, y_pred),\n",
    "                width=1000,\n",
    "                height=800,\n",
    "                text_auto=True,\n",
    "                labels=dict(x=\"Predicted Label\",\n",
    "                            y=\"True Label\"),\n",
    "                            x=tuple(complaints_dict.keys()),\n",
    "                            y=tuple(complaints_dict.keys()),\n",
    "                            color_continuous_scale='Teal'\n",
    "                            )\n",
    "\n",
    "fig.update(layout_coloraxis_showscale=False)\n",
    "#fig.update_layout(zaxis = dict(tickformat = \"digits\"))\n",
    "fig.show()\n",
    "\n",
    "#fig.write_html('confusion_matrix.html')"
   ]
  },
  {
   "attachments": {},
   "cell_type": "markdown",
   "metadata": {},
   "source": [
    "## XGBOOST version"
   ]
  },
  {
   "cell_type": "code",
   "execution_count": 31,
   "metadata": {},
   "outputs": [],
   "source": [
    "from xgboost import XGBClassifier"
   ]
  },
  {
   "cell_type": "code",
   "execution_count": 32,
   "metadata": {},
   "outputs": [
    {
     "data": {
      "text/html": [
       "<style>#sk-container-id-1 {color: black;background-color: white;}#sk-container-id-1 pre{padding: 0;}#sk-container-id-1 div.sk-toggleable {background-color: white;}#sk-container-id-1 label.sk-toggleable__label {cursor: pointer;display: block;width: 100%;margin-bottom: 0;padding: 0.3em;box-sizing: border-box;text-align: center;}#sk-container-id-1 label.sk-toggleable__label-arrow:before {content: \"▸\";float: left;margin-right: 0.25em;color: #696969;}#sk-container-id-1 label.sk-toggleable__label-arrow:hover:before {color: black;}#sk-container-id-1 div.sk-estimator:hover label.sk-toggleable__label-arrow:before {color: black;}#sk-container-id-1 div.sk-toggleable__content {max-height: 0;max-width: 0;overflow: hidden;text-align: left;background-color: #f0f8ff;}#sk-container-id-1 div.sk-toggleable__content pre {margin: 0.2em;color: black;border-radius: 0.25em;background-color: #f0f8ff;}#sk-container-id-1 input.sk-toggleable__control:checked~div.sk-toggleable__content {max-height: 200px;max-width: 100%;overflow: auto;}#sk-container-id-1 input.sk-toggleable__control:checked~label.sk-toggleable__label-arrow:before {content: \"▾\";}#sk-container-id-1 div.sk-estimator input.sk-toggleable__control:checked~label.sk-toggleable__label {background-color: #d4ebff;}#sk-container-id-1 div.sk-label input.sk-toggleable__control:checked~label.sk-toggleable__label {background-color: #d4ebff;}#sk-container-id-1 input.sk-hidden--visually {border: 0;clip: rect(1px 1px 1px 1px);clip: rect(1px, 1px, 1px, 1px);height: 1px;margin: -1px;overflow: hidden;padding: 0;position: absolute;width: 1px;}#sk-container-id-1 div.sk-estimator {font-family: monospace;background-color: #f0f8ff;border: 1px dotted black;border-radius: 0.25em;box-sizing: border-box;margin-bottom: 0.5em;}#sk-container-id-1 div.sk-estimator:hover {background-color: #d4ebff;}#sk-container-id-1 div.sk-parallel-item::after {content: \"\";width: 100%;border-bottom: 1px solid gray;flex-grow: 1;}#sk-container-id-1 div.sk-label:hover label.sk-toggleable__label {background-color: #d4ebff;}#sk-container-id-1 div.sk-serial::before {content: \"\";position: absolute;border-left: 1px solid gray;box-sizing: border-box;top: 0;bottom: 0;left: 50%;z-index: 0;}#sk-container-id-1 div.sk-serial {display: flex;flex-direction: column;align-items: center;background-color: white;padding-right: 0.2em;padding-left: 0.2em;position: relative;}#sk-container-id-1 div.sk-item {position: relative;z-index: 1;}#sk-container-id-1 div.sk-parallel {display: flex;align-items: stretch;justify-content: center;background-color: white;position: relative;}#sk-container-id-1 div.sk-item::before, #sk-container-id-1 div.sk-parallel-item::before {content: \"\";position: absolute;border-left: 1px solid gray;box-sizing: border-box;top: 0;bottom: 0;left: 50%;z-index: -1;}#sk-container-id-1 div.sk-parallel-item {display: flex;flex-direction: column;z-index: 1;position: relative;background-color: white;}#sk-container-id-1 div.sk-parallel-item:first-child::after {align-self: flex-end;width: 50%;}#sk-container-id-1 div.sk-parallel-item:last-child::after {align-self: flex-start;width: 50%;}#sk-container-id-1 div.sk-parallel-item:only-child::after {width: 0;}#sk-container-id-1 div.sk-dashed-wrapped {border: 1px dashed gray;margin: 0 0.4em 0.5em 0.4em;box-sizing: border-box;padding-bottom: 0.4em;background-color: white;}#sk-container-id-1 div.sk-label label {font-family: monospace;font-weight: bold;display: inline-block;line-height: 1.2em;}#sk-container-id-1 div.sk-label-container {text-align: center;}#sk-container-id-1 div.sk-container {/* jupyter's `normalize.less` sets `[hidden] { display: none; }` but bootstrap.min.css set `[hidden] { display: none !important; }` so we also need the `!important` here to be able to override the default hidden behavior on the sphinx rendered scikit-learn.org. See: https://github.com/scikit-learn/scikit-learn/issues/21755 */display: inline-block !important;position: relative;}#sk-container-id-1 div.sk-text-repr-fallback {display: none;}</style><div id=\"sk-container-id-1\" class=\"sk-top-container\"><div class=\"sk-text-repr-fallback\"><pre>XGBClassifier(base_score=None, booster=None, callbacks=None,\n",
       "              colsample_bylevel=None, colsample_bynode=None,\n",
       "              colsample_bytree=None, early_stopping_rounds=None,\n",
       "              enable_categorical=False, eval_metric=None, feature_types=None,\n",
       "              gamma=None, gpu_id=None, grow_policy=None, importance_type=None,\n",
       "              interaction_constraints=None, learning_rate=None, max_bin=None,\n",
       "              max_cat_threshold=None, max_cat_to_onehot=None,\n",
       "              max_delta_step=None, max_depth=None, max_leaves=None,\n",
       "              min_child_weight=None, missing=nan, monotone_constraints=None,\n",
       "              n_estimators=100, n_jobs=None, num_parallel_tree=None,\n",
       "              objective=&#x27;multi:softprob&#x27;, predictor=None, ...)</pre><b>In a Jupyter environment, please rerun this cell to show the HTML representation or trust the notebook. <br />On GitHub, the HTML representation is unable to render, please try loading this page with nbviewer.org.</b></div><div class=\"sk-container\" hidden><div class=\"sk-item\"><div class=\"sk-estimator sk-toggleable\"><input class=\"sk-toggleable__control sk-hidden--visually\" id=\"sk-estimator-id-1\" type=\"checkbox\" checked><label for=\"sk-estimator-id-1\" class=\"sk-toggleable__label sk-toggleable__label-arrow\">XGBClassifier</label><div class=\"sk-toggleable__content\"><pre>XGBClassifier(base_score=None, booster=None, callbacks=None,\n",
       "              colsample_bylevel=None, colsample_bynode=None,\n",
       "              colsample_bytree=None, early_stopping_rounds=None,\n",
       "              enable_categorical=False, eval_metric=None, feature_types=None,\n",
       "              gamma=None, gpu_id=None, grow_policy=None, importance_type=None,\n",
       "              interaction_constraints=None, learning_rate=None, max_bin=None,\n",
       "              max_cat_threshold=None, max_cat_to_onehot=None,\n",
       "              max_delta_step=None, max_depth=None, max_leaves=None,\n",
       "              min_child_weight=None, missing=nan, monotone_constraints=None,\n",
       "              n_estimators=100, n_jobs=None, num_parallel_tree=None,\n",
       "              objective=&#x27;multi:softprob&#x27;, predictor=None, ...)</pre></div></div></div></div></div>"
      ],
      "text/plain": [
       "XGBClassifier(base_score=None, booster=None, callbacks=None,\n",
       "              colsample_bylevel=None, colsample_bynode=None,\n",
       "              colsample_bytree=None, early_stopping_rounds=None,\n",
       "              enable_categorical=False, eval_metric=None, feature_types=None,\n",
       "              gamma=None, gpu_id=None, grow_policy=None, importance_type=None,\n",
       "              interaction_constraints=None, learning_rate=None, max_bin=None,\n",
       "              max_cat_threshold=None, max_cat_to_onehot=None,\n",
       "              max_delta_step=None, max_depth=None, max_leaves=None,\n",
       "              min_child_weight=None, missing=nan, monotone_constraints=None,\n",
       "              n_estimators=100, n_jobs=None, num_parallel_tree=None,\n",
       "              objective='multi:softprob', predictor=None, ...)"
      ]
     },
     "execution_count": 32,
     "metadata": {},
     "output_type": "execute_result"
    }
   ],
   "source": [
    "# bst = XGBClassifier(n_estimators=1000,\n",
    "#                     max_depth=6,\n",
    "#                     learning_rate=0.001,\n",
    "#                     subsample=0.8,\n",
    "#                     # reg_lambda=2,\n",
    "#                     # reg_alpha=1,\n",
    "#                     #objective='binary:logistic'\n",
    "#                     )\n",
    "\n",
    "bst = XGBClassifier()# n_estimators=300, max_depth=5, learning_rate=0.03, subsample=0.8)\n",
    "\n",
    "bst.fit(X_train_vec, y_train)\n"
   ]
  },
  {
   "cell_type": "code",
   "execution_count": 33,
   "metadata": {},
   "outputs": [
    {
     "name": "stdout",
     "output_type": "stream",
     "text": [
      "0.8847642545100614\n",
      "[[13173   638   111  4282    87]\n",
      " [  978  4002    25   274    32]\n",
      " [   86    30  2689   273     9]\n",
      " [ 2710    85    61 54324   146]\n",
      " [   53    31    23   248  3988]]\n",
      "              precision    recall  f1-score   support\n",
      "\n",
      "           0       0.77      0.72      0.75     18291\n",
      "           1       0.84      0.75      0.79      5311\n",
      "           2       0.92      0.87      0.90      3087\n",
      "           3       0.91      0.95      0.93     57326\n",
      "           4       0.94      0.92      0.93      4343\n",
      "\n",
      "    accuracy                           0.88     88358\n",
      "   macro avg       0.88      0.84      0.86     88358\n",
      "weighted avg       0.88      0.88      0.88     88358\n",
      "\n"
     ]
    }
   ],
   "source": [
    "y_pred = bst.predict(X_test_vec)\n",
    "\n",
    "print(accuracy_score(y_test, y_pred))\n",
    "\n",
    "print(confusion_matrix(y_test, y_pred))\n",
    "\n",
    "print(classification_report(y_test, y_pred))"
   ]
  },
  {
   "attachments": {},
   "cell_type": "markdown",
   "metadata": {},
   "source": [
    "## LogReg + additional features"
   ]
  },
  {
   "attachments": {},
   "cell_type": "markdown",
   "metadata": {},
   "source": [
    "Here, I'll add other features (for right now only the complaint length)."
   ]
  },
  {
   "cell_type": "code",
   "execution_count": 34,
   "metadata": {},
   "outputs": [],
   "source": [
    "vect = TfidfVectorizer(min_df=2, max_df=0.8)\n",
    "\n",
    "X_train_enhanced = vect.fit_transform(X_train['complaint_narrative'])\n",
    "X_test_enhanced = vect.transform(X_test['complaint_narrative'])"
   ]
  },
  {
   "attachments": {},
   "cell_type": "markdown",
   "metadata": {},
   "source": [
    "Here is the addition; converting the complaint length from a dense matrix to a sparse one and adding it."
   ]
  },
  {
   "cell_type": "code",
   "execution_count": 35,
   "metadata": {},
   "outputs": [],
   "source": [
    "train_complaint_length = scipy.sparse.csr_matrix(X_train['complaint_length'].values.reshape(-1,1))\n",
    "test_complaint_length = scipy.sparse.csr_matrix(X_test['complaint_length'].values.reshape(-1,1))\n",
    "\n",
    "X_train_enhanced = scipy.sparse.hstack((X_train_enhanced, train_complaint_length))\n",
    "X_test_enhanced = scipy.sparse.hstack((X_test_enhanced, test_complaint_length))"
   ]
  },
  {
   "cell_type": "code",
   "execution_count": 36,
   "metadata": {},
   "outputs": [
    {
     "name": "stdout",
     "output_type": "stream",
     "text": [
      "0.8368002897304149\n",
      "[[12013  1188   277  4677   136]\n",
      " [ 1230  3492    79   426    84]\n",
      " [  256    82  2348   351    50]\n",
      " [ 3584   501   391 52564   286]\n",
      " [  170   104    70   478  3521]]\n",
      "              precision    recall  f1-score   support\n",
      "\n",
      "           0       0.70      0.66      0.68     18291\n",
      "           1       0.65      0.66      0.65      5311\n",
      "           2       0.74      0.76      0.75      3087\n",
      "           3       0.90      0.92      0.91     57326\n",
      "           4       0.86      0.81      0.84      4343\n",
      "\n",
      "    accuracy                           0.84     88358\n",
      "   macro avg       0.77      0.76      0.77     88358\n",
      "weighted avg       0.83      0.84      0.84     88358\n",
      "\n"
     ]
    }
   ],
   "source": [
    "# note this takes about 10 min to run!!\n",
    "pipe_logreg = Pipeline(\n",
    "    steps = [\n",
    "        ('scaler', StandardScaler(with_mean=False)),\n",
    "        ('logreg', LogisticRegression(max_iter = 10000))\n",
    "    ]\n",
    ")\n",
    "\n",
    "pipe_logreg.fit(X_train_enhanced, y_train)\n",
    "\n",
    "y_pred = pipe_logreg.predict(X_test_enhanced)\n",
    "\n",
    "print(accuracy_score(y_test, y_pred))\n",
    "\n",
    "print(confusion_matrix(y_test, y_pred))\n",
    "\n",
    "print(classification_report(y_test, y_pred))"
   ]
  },
  {
   "attachments": {},
   "cell_type": "markdown",
   "metadata": {},
   "source": [
    "## Exploring the incorrect classifications"
   ]
  },
  {
   "cell_type": "code",
   "execution_count": 37,
   "metadata": {},
   "outputs": [
    {
     "data": {
      "text/plain": [
       "{'Attempts to collect debt not owed': 0,\n",
       " 'Communication tactics': 1,\n",
       " 'Fraud or scam': 2,\n",
       " 'Incorrect information on your report': 3,\n",
       " 'Struggling to pay mortgage': 4}"
      ]
     },
     "execution_count": 37,
     "metadata": {},
     "output_type": "execute_result"
    }
   ],
   "source": [
    "complaints_dict"
   ]
  },
  {
   "attachments": {},
   "cell_type": "markdown",
   "metadata": {},
   "source": [
    "In order to see what happens where the complaints get wrongly classified, we first need to extract the indexes of where y_test and y_pred don't match.\n",
    "\n",
    "That is done by first grabbing the index from y_test corresponding to the value of interest (e.g. 1) and seeing where that was incorrectly predicted as something else with y_pred (e.g. 2). Intersect those two to get the indices of where this wrong classification happened"
   ]
  },
  {
   "cell_type": "code",
   "execution_count": 38,
   "metadata": {},
   "outputs": [
    {
     "name": "stdout",
     "output_type": "stream",
     "text": [
      "4677\n",
      "[   12    32    42 ... 88237 88261 88344]\n"
     ]
    }
   ],
   "source": [
    "test_index = np.where(y_test == 0)[0]\n",
    "pred_index = np.where(y_pred == 3)[0]\n",
    "\n",
    "test_pred_index = np.intersect1d(test_index, pred_index)\n",
    "\n",
    "print(len(test_pred_index))\n",
    "print(test_pred_index)"
   ]
  },
  {
   "cell_type": "code",
   "execution_count": 39,
   "metadata": {},
   "outputs": [
    {
     "data": {
      "text/plain": [
       "72776"
      ]
     },
     "execution_count": 39,
     "metadata": {},
     "output_type": "execute_result"
    }
   ],
   "source": [
    "y_test.index[test_pred_index[0]]"
   ]
  },
  {
   "cell_type": "code",
   "execution_count": 40,
   "metadata": {},
   "outputs": [],
   "source": [
    "pd.set_option('display.max_colwidth', None)"
   ]
  },
  {
   "cell_type": "code",
   "execution_count": 41,
   "metadata": {},
   "outputs": [
    {
     "data": {
      "text/plain": [
       "complaint_narrative    Upon checking my credit report I noticed some unauthorized accounts.\n",
       "complaint_length                                                                         68\n",
       "Name: 334837, dtype: object"
      ]
     },
     "execution_count": 41,
     "metadata": {},
     "output_type": "execute_result"
    }
   ],
   "source": [
    "X_test.iloc[test_pred_index[2]]"
   ]
  },
  {
   "cell_type": "code",
   "execution_count": 42,
   "metadata": {},
   "outputs": [
    {
     "name": "stdout",
     "output_type": "stream",
     "text": [
      "  (0, 833365)\t0.4213469589921667\n",
      "  (0, 833259)\t0.4145713063311564\n",
      "  (0, 529758)\t0.41369810115476185\n",
      "  (0, 527206)\t0.1690740658713722\n",
      "  (0, 372711)\t0.3367646990905286\n",
      "  (0, 42341)\t0.5093610897840717\n",
      "  (0, 40894)\t0.27929559811434135\n"
     ]
    }
   ],
   "source": [
    "print(X_test_vec[test_pred_index[0]])"
   ]
  },
  {
   "cell_type": "code",
   "execution_count": 43,
   "metadata": {},
   "outputs": [
    {
     "data": {
      "text/plain": [
       "'was'"
      ]
     },
     "execution_count": 43,
     "metadata": {},
     "output_type": "execute_result"
    }
   ],
   "source": [
    "vect.get_feature_names_out()[35254]"
   ]
  },
  {
   "attachments": {},
   "cell_type": "markdown",
   "metadata": {},
   "source": [
    "NOTE: this was one of the last projects before starting on the Capstone. As a result, there are additional options that can be looked into!"
   ]
  },
  {
   "attachments": {},
   "cell_type": "markdown",
   "metadata": {},
   "source": []
  }
 ],
 "metadata": {
  "kernelspec": {
   "display_name": "base",
   "language": "python",
   "name": "python3"
  },
  "language_info": {
   "codemirror_mode": {
    "name": "ipython",
    "version": 3
   },
   "file_extension": ".py",
   "mimetype": "text/x-python",
   "name": "python",
   "nbconvert_exporter": "python",
   "pygments_lexer": "ipython3",
   "version": "3.9.12"
  },
  "orig_nbformat": 4
 },
 "nbformat": 4,
 "nbformat_minor": 2
}
